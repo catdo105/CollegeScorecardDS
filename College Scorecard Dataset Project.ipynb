{
 "cells": [
  {
   "cell_type": "markdown",
   "metadata": {},
   "source": [
    "# College Scorecard Dataset - DS Workflow Project\n",
    "\n",
    "This project was completed as the final project of my Data Science course at Rutgers University-Newark worth 30% of my final grade.\n",
    "\n",
    "The objective of the project was to work through parts of the data science workflow as follows:\n",
    "1. Business Use Case/Testable Hypothesis and Target Variable \n",
    "2. Data Acquisition and QA Analysis\n",
    "3. Quality Assurance Plan Execution\n",
    "4. Exploratory Data Analysis\n",
    "\n",
    "My group of three chose to use the merged College Scorecard Dataset provided by the course to complete this project."
   ]
  },
  {
   "cell_type": "markdown",
   "metadata": {},
   "source": [
    "## SECTION 1: Business Use Case/Testable Hypothesis and Target Variable\n",
    "#### Testable hypothesis\n",
    "\n",
    "<b>Null Hypothesis (H0)</b>: Universities with higher average admission SAT Math scores will have a higher percentage of students graduating with STEM degrees than universities with lower average SAT Math admission scores <br>\n",
    "<b>Alternate Hypothesis (HA)</b>:  Universities with higher average SAT Math admission scores do not award a higher percentage STEM degrees. \n",
    "\n",
    "#### Background\n",
    "We arrived at the testable hypothesis by analyzing the accompanying data dictionary of the dataset. We noticed that there were many columns regarding admission, the SAT scores, and percentages of degrees awarded in many different subject areas. As students pursuing STEM degrees, we asked if there was there a correlation between scoring high on the Math section of the SAT and majoring in STEM-related degrees. \n",
    "\n",
    "Our target variable will be institutions with high SAT Math Admission Scores. The condition of the target variable will be to be within the 90th percentile of median SAT Math Admission scores which will be coded as 1, and all other institutions coded as 0. We will also need to identify the STEM related degrees within the dataset which will be coded as (1) for a STEM degree and (0) for all other degrees."
   ]
  },
  {
   "cell_type": "markdown",
   "metadata": {},
   "source": [
    "## SECTION 2: Data Acquisition and QA Analysis\n",
    "\n",
    "### Exploring the Dataset\n",
    "\n",
    "The name of the dataset is College Scorecard. The data was provided by the US Department of Education through federal reporting from institutions, data on federal financial aid, and tax information. The data was obtained from data reported to the Integrated Postsecondary Education Data System (IPEDS). It was created to give students and their families transparency in regardes to postsecondary education. This particular file is a merged score card from years 2017 to 2019. "
   ]
  },
  {
   "cell_type": "code",
   "execution_count": 4,
   "metadata": {
    "scrolled": true
   },
   "outputs": [
    {
     "name": "stderr",
     "output_type": "stream",
     "text": [
      "C:\\Users\\catdo\\Anaconda3\\lib\\site-packages\\IPython\\core\\interactiveshell.py:3058: DtypeWarning: Columns (7,10,1394,1395,1396,1397,1398,1399,1400,1401,1402,1403,1404,1405,1406,1407,1538,1541,1543,1590,1591,1592,1593,1594,1595,1596,1597,1598,1599,1600,1601,1602,1603,1607,1615,1616,1726,1727,1728,1729,1730,1744,1816,1817,1818,1819,1824,1825,1831,1832,1880,1881,1882,1883,1884,1885,1886,1887,1888,1889,1890,1891,1892,1893,1894,1895,1896,1897,1898,1899,1910,1911,1912,1913,1914,1958,1959,1960,1961,1962,1963,1964,1965,1966,1967,1968,1969,1970,1971,1972,1973,1974,1975,1976,1977,1984,1985) have mixed types. Specify dtype option on import or set low_memory=False.\n",
      "  interactivity=interactivity, compiler=compiler, result=result)\n"
     ]
    },
    {
     "data": {
      "text/html": [
       "<div>\n",
       "<style scoped>\n",
       "    .dataframe tbody tr th:only-of-type {\n",
       "        vertical-align: middle;\n",
       "    }\n",
       "\n",
       "    .dataframe tbody tr th {\n",
       "        vertical-align: top;\n",
       "    }\n",
       "\n",
       "    .dataframe thead th {\n",
       "        text-align: right;\n",
       "    }\n",
       "</style>\n",
       "<table border=\"1\" class=\"dataframe\">\n",
       "  <thead>\n",
       "    <tr style=\"text-align: right;\">\n",
       "      <th></th>\n",
       "      <th>Unnamed: 0</th>\n",
       "      <th>UNITID</th>\n",
       "      <th>OPEID</th>\n",
       "      <th>OPEID6</th>\n",
       "      <th>INSTNM</th>\n",
       "      <th>CITY</th>\n",
       "      <th>STABBR</th>\n",
       "      <th>ZIP</th>\n",
       "      <th>ACCREDAGENCY</th>\n",
       "      <th>INSTURL</th>\n",
       "      <th>...</th>\n",
       "      <th>FTFTPCTPELL</th>\n",
       "      <th>FTFTPCTFLOAN</th>\n",
       "      <th>UG12MN</th>\n",
       "      <th>G12MN</th>\n",
       "      <th>SCUGFFN</th>\n",
       "      <th>POOLYRS_FTFTAIDPCT</th>\n",
       "      <th>FTFTPCTPELL_POOLED_SUPP</th>\n",
       "      <th>FTFTPCTFLOAN_POOLED_SUPP</th>\n",
       "      <th>SCUGFFN_POOLED</th>\n",
       "      <th>YEAR</th>\n",
       "    </tr>\n",
       "  </thead>\n",
       "  <tbody>\n",
       "    <tr>\n",
       "      <td>0</td>\n",
       "      <td>9</td>\n",
       "      <td>100654</td>\n",
       "      <td>100200</td>\n",
       "      <td>1002</td>\n",
       "      <td>Alabama A &amp; M University</td>\n",
       "      <td>Normal</td>\n",
       "      <td>AL</td>\n",
       "      <td>35762</td>\n",
       "      <td>NaN</td>\n",
       "      <td>NaN</td>\n",
       "      <td>...</td>\n",
       "      <td>0.74</td>\n",
       "      <td>0.75</td>\n",
       "      <td>4865.00</td>\n",
       "      <td>1292.00</td>\n",
       "      <td>1473.00</td>\n",
       "      <td>nan</td>\n",
       "      <td>NaN</td>\n",
       "      <td>NaN</td>\n",
       "      <td>nan</td>\n",
       "      <td>2019</td>\n",
       "    </tr>\n",
       "    <tr>\n",
       "      <td>1</td>\n",
       "      <td>0</td>\n",
       "      <td>100654</td>\n",
       "      <td>100200</td>\n",
       "      <td>1002</td>\n",
       "      <td>Alabama A &amp; M University</td>\n",
       "      <td>Normal</td>\n",
       "      <td>AL</td>\n",
       "      <td>35762</td>\n",
       "      <td>Southern Association of Colleges and Schools C...</td>\n",
       "      <td>www.aamu.edu/</td>\n",
       "      <td>...</td>\n",
       "      <td>0.71</td>\n",
       "      <td>0.71</td>\n",
       "      <td>5343.00</td>\n",
       "      <td>1165.00</td>\n",
       "      <td>1288.00</td>\n",
       "      <td>2.00</td>\n",
       "      <td>0.7083</td>\n",
       "      <td>0.7287</td>\n",
       "      <td>2698.00</td>\n",
       "      <td>2017</td>\n",
       "    </tr>\n",
       "    <tr>\n",
       "      <td>2</td>\n",
       "      <td>0</td>\n",
       "      <td>100654</td>\n",
       "      <td>100200</td>\n",
       "      <td>1002</td>\n",
       "      <td>Alabama A &amp; M University</td>\n",
       "      <td>Normal</td>\n",
       "      <td>AL</td>\n",
       "      <td>35762</td>\n",
       "      <td>NaN</td>\n",
       "      <td>NaN</td>\n",
       "      <td>...</td>\n",
       "      <td>0.71</td>\n",
       "      <td>0.74</td>\n",
       "      <td>5207.00</td>\n",
       "      <td>1185.00</td>\n",
       "      <td>1410.00</td>\n",
       "      <td>nan</td>\n",
       "      <td>NaN</td>\n",
       "      <td>NaN</td>\n",
       "      <td>nan</td>\n",
       "      <td>2018</td>\n",
       "    </tr>\n",
       "    <tr>\n",
       "      <td>3</td>\n",
       "      <td>10</td>\n",
       "      <td>100663</td>\n",
       "      <td>105200</td>\n",
       "      <td>1052</td>\n",
       "      <td>University of Alabama at Birmingham</td>\n",
       "      <td>Birmingham</td>\n",
       "      <td>AL</td>\n",
       "      <td>35294-0110</td>\n",
       "      <td>NaN</td>\n",
       "      <td>NaN</td>\n",
       "      <td>...</td>\n",
       "      <td>0.34</td>\n",
       "      <td>0.49</td>\n",
       "      <td>13440.00</td>\n",
       "      <td>8114.00</td>\n",
       "      <td>1593.00</td>\n",
       "      <td>nan</td>\n",
       "      <td>NaN</td>\n",
       "      <td>NaN</td>\n",
       "      <td>nan</td>\n",
       "      <td>2019</td>\n",
       "    </tr>\n",
       "    <tr>\n",
       "      <td>4</td>\n",
       "      <td>1</td>\n",
       "      <td>100663</td>\n",
       "      <td>105200</td>\n",
       "      <td>1052</td>\n",
       "      <td>University of Alabama at Birmingham</td>\n",
       "      <td>Birmingham</td>\n",
       "      <td>AL</td>\n",
       "      <td>35294-0110</td>\n",
       "      <td>NaN</td>\n",
       "      <td>NaN</td>\n",
       "      <td>...</td>\n",
       "      <td>0.40</td>\n",
       "      <td>0.55</td>\n",
       "      <td>13308.00</td>\n",
       "      <td>9888.00</td>\n",
       "      <td>1948.00</td>\n",
       "      <td>nan</td>\n",
       "      <td>NaN</td>\n",
       "      <td>NaN</td>\n",
       "      <td>nan</td>\n",
       "      <td>2018</td>\n",
       "    </tr>\n",
       "  </tbody>\n",
       "</table>\n",
       "<p>5 rows × 1988 columns</p>\n",
       "</div>"
      ],
      "text/plain": [
       "   Unnamed: 0  UNITID   OPEID  OPEID6                               INSTNM  \\\n",
       "0           9  100654  100200    1002             Alabama A & M University   \n",
       "1           0  100654  100200    1002             Alabama A & M University   \n",
       "2           0  100654  100200    1002             Alabama A & M University   \n",
       "3          10  100663  105200    1052  University of Alabama at Birmingham   \n",
       "4           1  100663  105200    1052  University of Alabama at Birmingham   \n",
       "\n",
       "         CITY STABBR         ZIP  \\\n",
       "0      Normal     AL       35762   \n",
       "1      Normal     AL       35762   \n",
       "2      Normal     AL       35762   \n",
       "3  Birmingham     AL  35294-0110   \n",
       "4  Birmingham     AL  35294-0110   \n",
       "\n",
       "                                        ACCREDAGENCY        INSTURL  ...  \\\n",
       "0                                                NaN            NaN  ...   \n",
       "1  Southern Association of Colleges and Schools C...  www.aamu.edu/  ...   \n",
       "2                                                NaN            NaN  ...   \n",
       "3                                                NaN            NaN  ...   \n",
       "4                                                NaN            NaN  ...   \n",
       "\n",
       "  FTFTPCTPELL  FTFTPCTFLOAN   UG12MN   G12MN  SCUGFFN  POOLYRS_FTFTAIDPCT  \\\n",
       "0        0.74          0.75  4865.00 1292.00  1473.00                 nan   \n",
       "1        0.71          0.71  5343.00 1165.00  1288.00                2.00   \n",
       "2        0.71          0.74  5207.00 1185.00  1410.00                 nan   \n",
       "3        0.34          0.49 13440.00 8114.00  1593.00                 nan   \n",
       "4        0.40          0.55 13308.00 9888.00  1948.00                 nan   \n",
       "\n",
       "   FTFTPCTPELL_POOLED_SUPP  FTFTPCTFLOAN_POOLED_SUPP  SCUGFFN_POOLED  YEAR  \n",
       "0                      NaN                       NaN             nan  2019  \n",
       "1                   0.7083                    0.7287         2698.00  2017  \n",
       "2                      NaN                       NaN             nan  2018  \n",
       "3                      NaN                       NaN             nan  2019  \n",
       "4                      NaN                       NaN             nan  2018  \n",
       "\n",
       "[5 rows x 1988 columns]"
      ]
     },
     "execution_count": 4,
     "metadata": {},
     "output_type": "execute_result"
    }
   ],
   "source": [
    "import pandas as pd \n",
    "import numpy as np\n",
    "import matplotlib.pyplot as plt\n",
    "import seaborn as sns\n",
    "pd.options.display.float_format = '{:.2f}'.format\n",
    "\n",
    "df=pd.read_csv('C:/Users/catdo/OneDrive/Desktop/spring 2021/DS 105-Everyday Data/final/MERGED2019_17_pp.csv')\n",
    "df.head()"
   ]
  },
  {
   "cell_type": "code",
   "execution_count": 6,
   "metadata": {},
   "outputs": [
    {
     "data": {
      "text/plain": [
       "(21156, 1988)"
      ]
     },
     "execution_count": 6,
     "metadata": {},
     "output_type": "execute_result"
    }
   ],
   "source": [
    "#finding how many rows and columns are in the dataset\n",
    "df.shape"
   ]
  },
  {
   "cell_type": "markdown",
   "metadata": {},
   "source": [
    "There are 21,156 rows and 1,989 columns in the dataset.\n",
    "\n",
    " ### Types of groups of data elements (e.g., demographic, financial)\n",
    "\n",
    "<b>Root</b>: The ID's given to the institutions of the dataset. This inlcudes the OPEID given by the  US Department of Education's Office of Postsecondary Education and the Federal Student Aid Office. The file also provides ID's 'UNITID' that group OPEIDs together for institutions with several locations. There are 7,541 unique OPEID's for institutions in this file and 6,331 unique institutions based on their basic Carnegie classifications."
   ]
  },
  {
   "cell_type": "code",
   "execution_count": 7,
   "metadata": {},
   "outputs": [
    {
     "name": "stdout",
     "output_type": "stream",
     "text": [
      "7541\n",
      "6331\n"
     ]
    }
   ],
   "source": [
    "#getting the number of unique institutions\n",
    "print(len(df.UNITID.unique()))\n",
    "print(df.CCBASIC.count())"
   ]
  },
  {
   "cell_type": "markdown",
   "metadata": {},
   "source": [
    "#### **Demographics**\n",
    "---\n",
    "\n",
    "**School**:\n",
    "This group of data elements describes information regarding an institution. It includes names, location, programs offered, and classifications for types of institutions and what type of students they may serve.\n",
    "\n",
    "The data set contains institutions from 59 different states and territories with the most institutions, 10% of the total, coming from California (ST_FIPS=6).\n",
    "\n",
    "Institutions are also categorized by by 10 different regions which the highest percentage of institutions located in the Southeast region followed by the Mid East and Great Lakes regions.\n",
    "\n",
    "The dataset contains a fairly even distribution of public (31%), private nonprofit(29%), and private for profit (39%) institutions.\n",
    "\n",
    "The data set also provides information whether or not the institution serves particular populations. There are 100 historically black institutions, 101 predominantly black institutions, 36 Alaska Native Native Hawaiian serving institutions, 35 tribal colleges and universities, 162 Asian American, Native American, and Pacific Islander serving institutions,461 Hispanic serving institutions, 28 Native American non-tribal institutions, 62 men only colleges, and 35 women only colleges included in the file."
   ]
  },
  {
   "cell_type": "code",
   "execution_count": 11,
   "metadata": {},
   "outputs": [
    {
     "name": "stdout",
     "output_type": "stream",
     "text": [
      "There are 59 different states/territories represented in the datset\n"
     ]
    },
    {
     "data": {
      "text/html": [
       "<div>\n",
       "<style scoped>\n",
       "    .dataframe tbody tr th:only-of-type {\n",
       "        vertical-align: middle;\n",
       "    }\n",
       "\n",
       "    .dataframe tbody tr th {\n",
       "        vertical-align: top;\n",
       "    }\n",
       "\n",
       "    .dataframe thead th {\n",
       "        text-align: right;\n",
       "    }\n",
       "</style>\n",
       "<table border=\"1\" class=\"dataframe\">\n",
       "  <thead>\n",
       "    <tr style=\"text-align: right;\">\n",
       "      <th></th>\n",
       "      <th>UNITID</th>\n",
       "      <th>percentage</th>\n",
       "    </tr>\n",
       "    <tr>\n",
       "      <th>ST_FIPS</th>\n",
       "      <th></th>\n",
       "      <th></th>\n",
       "    </tr>\n",
       "  </thead>\n",
       "  <tbody>\n",
       "    <tr>\n",
       "      <td>1</td>\n",
       "      <td>278</td>\n",
       "      <td>0.01</td>\n",
       "    </tr>\n",
       "    <tr>\n",
       "      <td>2</td>\n",
       "      <td>27</td>\n",
       "      <td>0.00</td>\n",
       "    </tr>\n",
       "    <tr>\n",
       "      <td>4</td>\n",
       "      <td>370</td>\n",
       "      <td>0.02</td>\n",
       "    </tr>\n",
       "    <tr>\n",
       "      <td>5</td>\n",
       "      <td>271</td>\n",
       "      <td>0.01</td>\n",
       "    </tr>\n",
       "    <tr>\n",
       "      <td>6</td>\n",
       "      <td>2143</td>\n",
       "      <td>0.10</td>\n",
       "    </tr>\n",
       "    <tr>\n",
       "      <td>8</td>\n",
       "      <td>339</td>\n",
       "      <td>0.02</td>\n",
       "    </tr>\n",
       "    <tr>\n",
       "      <td>9</td>\n",
       "      <td>256</td>\n",
       "      <td>0.01</td>\n",
       "    </tr>\n",
       "    <tr>\n",
       "      <td>10</td>\n",
       "      <td>61</td>\n",
       "      <td>0.00</td>\n",
       "    </tr>\n",
       "    <tr>\n",
       "      <td>11</td>\n",
       "      <td>70</td>\n",
       "      <td>0.00</td>\n",
       "    </tr>\n",
       "    <tr>\n",
       "      <td>12</td>\n",
       "      <td>1221</td>\n",
       "      <td>0.06</td>\n",
       "    </tr>\n",
       "    <tr>\n",
       "      <td>13</td>\n",
       "      <td>531</td>\n",
       "      <td>0.03</td>\n",
       "    </tr>\n",
       "    <tr>\n",
       "      <td>15</td>\n",
       "      <td>73</td>\n",
       "      <td>0.00</td>\n",
       "    </tr>\n",
       "    <tr>\n",
       "      <td>16</td>\n",
       "      <td>113</td>\n",
       "      <td>0.01</td>\n",
       "    </tr>\n",
       "    <tr>\n",
       "      <td>17</td>\n",
       "      <td>824</td>\n",
       "      <td>0.04</td>\n",
       "    </tr>\n",
       "    <tr>\n",
       "      <td>18</td>\n",
       "      <td>450</td>\n",
       "      <td>0.02</td>\n",
       "    </tr>\n",
       "    <tr>\n",
       "      <td>19</td>\n",
       "      <td>262</td>\n",
       "      <td>0.01</td>\n",
       "    </tr>\n",
       "    <tr>\n",
       "      <td>20</td>\n",
       "      <td>252</td>\n",
       "      <td>0.01</td>\n",
       "    </tr>\n",
       "    <tr>\n",
       "      <td>21</td>\n",
       "      <td>296</td>\n",
       "      <td>0.01</td>\n",
       "    </tr>\n",
       "    <tr>\n",
       "      <td>22</td>\n",
       "      <td>385</td>\n",
       "      <td>0.02</td>\n",
       "    </tr>\n",
       "    <tr>\n",
       "      <td>23</td>\n",
       "      <td>121</td>\n",
       "      <td>0.01</td>\n",
       "    </tr>\n",
       "    <tr>\n",
       "      <td>24</td>\n",
       "      <td>271</td>\n",
       "      <td>0.01</td>\n",
       "    </tr>\n",
       "    <tr>\n",
       "      <td>25</td>\n",
       "      <td>525</td>\n",
       "      <td>0.02</td>\n",
       "    </tr>\n",
       "    <tr>\n",
       "      <td>26</td>\n",
       "      <td>575</td>\n",
       "      <td>0.03</td>\n",
       "    </tr>\n",
       "    <tr>\n",
       "      <td>27</td>\n",
       "      <td>372</td>\n",
       "      <td>0.02</td>\n",
       "    </tr>\n",
       "    <tr>\n",
       "      <td>28</td>\n",
       "      <td>183</td>\n",
       "      <td>0.01</td>\n",
       "    </tr>\n",
       "    <tr>\n",
       "      <td>29</td>\n",
       "      <td>532</td>\n",
       "      <td>0.03</td>\n",
       "    </tr>\n",
       "    <tr>\n",
       "      <td>30</td>\n",
       "      <td>99</td>\n",
       "      <td>0.00</td>\n",
       "    </tr>\n",
       "    <tr>\n",
       "      <td>31</td>\n",
       "      <td>144</td>\n",
       "      <td>0.01</td>\n",
       "    </tr>\n",
       "    <tr>\n",
       "      <td>32</td>\n",
       "      <td>121</td>\n",
       "      <td>0.01</td>\n",
       "    </tr>\n",
       "    <tr>\n",
       "      <td>33</td>\n",
       "      <td>117</td>\n",
       "      <td>0.01</td>\n",
       "    </tr>\n",
       "    <tr>\n",
       "      <td>34</td>\n",
       "      <td>485</td>\n",
       "      <td>0.02</td>\n",
       "    </tr>\n",
       "    <tr>\n",
       "      <td>35</td>\n",
       "      <td>148</td>\n",
       "      <td>0.01</td>\n",
       "    </tr>\n",
       "    <tr>\n",
       "      <td>36</td>\n",
       "      <td>1362</td>\n",
       "      <td>0.06</td>\n",
       "    </tr>\n",
       "    <tr>\n",
       "      <td>37</td>\n",
       "      <td>561</td>\n",
       "      <td>0.03</td>\n",
       "    </tr>\n",
       "    <tr>\n",
       "      <td>38</td>\n",
       "      <td>86</td>\n",
       "      <td>0.00</td>\n",
       "    </tr>\n",
       "    <tr>\n",
       "      <td>39</td>\n",
       "      <td>940</td>\n",
       "      <td>0.04</td>\n",
       "    </tr>\n",
       "    <tr>\n",
       "      <td>40</td>\n",
       "      <td>377</td>\n",
       "      <td>0.02</td>\n",
       "    </tr>\n",
       "    <tr>\n",
       "      <td>41</td>\n",
       "      <td>255</td>\n",
       "      <td>0.01</td>\n",
       "    </tr>\n",
       "    <tr>\n",
       "      <td>42</td>\n",
       "      <td>1123</td>\n",
       "      <td>0.05</td>\n",
       "    </tr>\n",
       "    <tr>\n",
       "      <td>44</td>\n",
       "      <td>75</td>\n",
       "      <td>0.00</td>\n",
       "    </tr>\n",
       "    <tr>\n",
       "      <td>45</td>\n",
       "      <td>321</td>\n",
       "      <td>0.02</td>\n",
       "    </tr>\n",
       "    <tr>\n",
       "      <td>46</td>\n",
       "      <td>89</td>\n",
       "      <td>0.00</td>\n",
       "    </tr>\n",
       "    <tr>\n",
       "      <td>47</td>\n",
       "      <td>513</td>\n",
       "      <td>0.02</td>\n",
       "    </tr>\n",
       "    <tr>\n",
       "      <td>48</td>\n",
       "      <td>1337</td>\n",
       "      <td>0.06</td>\n",
       "    </tr>\n",
       "    <tr>\n",
       "      <td>49</td>\n",
       "      <td>223</td>\n",
       "      <td>0.01</td>\n",
       "    </tr>\n",
       "    <tr>\n",
       "      <td>50</td>\n",
       "      <td>77</td>\n",
       "      <td>0.00</td>\n",
       "    </tr>\n",
       "    <tr>\n",
       "      <td>51</td>\n",
       "      <td>521</td>\n",
       "      <td>0.02</td>\n",
       "    </tr>\n",
       "    <tr>\n",
       "      <td>53</td>\n",
       "      <td>347</td>\n",
       "      <td>0.02</td>\n",
       "    </tr>\n",
       "    <tr>\n",
       "      <td>54</td>\n",
       "      <td>224</td>\n",
       "      <td>0.01</td>\n",
       "    </tr>\n",
       "    <tr>\n",
       "      <td>55</td>\n",
       "      <td>314</td>\n",
       "      <td>0.01</td>\n",
       "    </tr>\n",
       "    <tr>\n",
       "      <td>56</td>\n",
       "      <td>31</td>\n",
       "      <td>0.00</td>\n",
       "    </tr>\n",
       "    <tr>\n",
       "      <td>60</td>\n",
       "      <td>3</td>\n",
       "      <td>0.00</td>\n",
       "    </tr>\n",
       "    <tr>\n",
       "      <td>64</td>\n",
       "      <td>3</td>\n",
       "      <td>0.00</td>\n",
       "    </tr>\n",
       "    <tr>\n",
       "      <td>66</td>\n",
       "      <td>9</td>\n",
       "      <td>0.00</td>\n",
       "    </tr>\n",
       "    <tr>\n",
       "      <td>68</td>\n",
       "      <td>3</td>\n",
       "      <td>0.00</td>\n",
       "    </tr>\n",
       "    <tr>\n",
       "      <td>69</td>\n",
       "      <td>3</td>\n",
       "      <td>0.00</td>\n",
       "    </tr>\n",
       "    <tr>\n",
       "      <td>70</td>\n",
       "      <td>3</td>\n",
       "      <td>0.00</td>\n",
       "    </tr>\n",
       "    <tr>\n",
       "      <td>72</td>\n",
       "      <td>435</td>\n",
       "      <td>0.02</td>\n",
       "    </tr>\n",
       "    <tr>\n",
       "      <td>78</td>\n",
       "      <td>6</td>\n",
       "      <td>0.00</td>\n",
       "    </tr>\n",
       "  </tbody>\n",
       "</table>\n",
       "</div>"
      ],
      "text/plain": [
       "         UNITID  percentage\n",
       "ST_FIPS                    \n",
       "1           278        0.01\n",
       "2            27        0.00\n",
       "4           370        0.02\n",
       "5           271        0.01\n",
       "6          2143        0.10\n",
       "8           339        0.02\n",
       "9           256        0.01\n",
       "10           61        0.00\n",
       "11           70        0.00\n",
       "12         1221        0.06\n",
       "13          531        0.03\n",
       "15           73        0.00\n",
       "16          113        0.01\n",
       "17          824        0.04\n",
       "18          450        0.02\n",
       "19          262        0.01\n",
       "20          252        0.01\n",
       "21          296        0.01\n",
       "22          385        0.02\n",
       "23          121        0.01\n",
       "24          271        0.01\n",
       "25          525        0.02\n",
       "26          575        0.03\n",
       "27          372        0.02\n",
       "28          183        0.01\n",
       "29          532        0.03\n",
       "30           99        0.00\n",
       "31          144        0.01\n",
       "32          121        0.01\n",
       "33          117        0.01\n",
       "34          485        0.02\n",
       "35          148        0.01\n",
       "36         1362        0.06\n",
       "37          561        0.03\n",
       "38           86        0.00\n",
       "39          940        0.04\n",
       "40          377        0.02\n",
       "41          255        0.01\n",
       "42         1123        0.05\n",
       "44           75        0.00\n",
       "45          321        0.02\n",
       "46           89        0.00\n",
       "47          513        0.02\n",
       "48         1337        0.06\n",
       "49          223        0.01\n",
       "50           77        0.00\n",
       "51          521        0.02\n",
       "53          347        0.02\n",
       "54          224        0.01\n",
       "55          314        0.01\n",
       "56           31        0.00\n",
       "60            3        0.00\n",
       "64            3        0.00\n",
       "66            9        0.00\n",
       "68            3        0.00\n",
       "69            3        0.00\n",
       "70            3        0.00\n",
       "72          435        0.02\n",
       "78            6        0.00"
      ]
     },
     "execution_count": 11,
     "metadata": {},
     "output_type": "execute_result"
    }
   ],
   "source": [
    "#creating a crosstab of states/territories (ST_FIPS), the number of institutions in those places (UNITID),\n",
    "#and the percentage of institutions in those places within the entire dataset\n",
    "states=df.groupby('ST_FIPS').agg({'UNITID': 'count'})\n",
    "state_percent=pd.crosstab(index=df['ST_FIPS'],columns=df.ST_FIPS,normalize='columns',margins=True)\n",
    "s_percent=state_percent.All\n",
    "states['percentage']= s_percent\n",
    "print(\"There are\",len(df.ST_FIPS.unique()),\"different states/territories represented in the datset\")\n",
    "states"
   ]
  },
  {
   "cell_type": "code",
   "execution_count": 32,
   "metadata": {
    "scrolled": true
   },
   "outputs": [
    {
     "data": {
      "text/plain": [
       "<matplotlib.legend.Legend at 0x1bfb98b4948>"
      ]
     },
     "execution_count": 32,
     "metadata": {},
     "output_type": "execute_result"
    },
    {
     "data": {
      "image/png": "[encoded data removed]",
      "text/plain": [
       "<Figure size 936x936 with 1 Axes>"
      ]
     },
     "metadata": {},
     "output_type": "display_data"
    }
   ],
   "source": [
    "#creating a crosstab of regions represented in the dataset\n",
    "regions=df.groupby('REGION').agg({'UNITID': 'count'})\n",
    "reg_percent=pd.crosstab(index=df['REGION'],columns=df.REGION,normalize='columns',margins=True)\n",
    "r_percent=reg_percent.All\n",
    "regions['percentage']= r_percent\n",
    "regions['labels'] =[' U.S. Service Schools','New England (CT, ME, MA, NH, RI, VT)',' Mid East (DE, DC, MD, NJ, NY, PA)','Great Lakes (IL, IN, MI, OH, WI)',' Plains (IA, KS, MN, MO, NE, ND, SD)'\n",
    ",' Southeast (AL, AR, FL, GA, KY, LA, MS, NC, SC, TN, VA, WV)',' Southwest (AZ, NM, OK, TX)',' Rocky Mountains (CO, ID, MT, UT, WY)',' Far West (AK, CA, HI, NV, OR, WA)',' Outlying Areas (AS, FM, GU, MH, MP, PR, PW, VI)']\n",
    "regions\n",
    "\n",
    "pieplot = regions.plot(kind='pie',y='percentage',figsize=(13,13),autopct='%1.2f%%')\n",
    "plt.legend(regions.labels)"
   ]
  },
  {
   "cell_type": "code",
   "execution_count": 13,
   "metadata": {},
   "outputs": [
    {
     "data": {
      "text/html": [
       "<div>\n",
       "<style scoped>\n",
       "    .dataframe tbody tr th:only-of-type {\n",
       "        vertical-align: middle;\n",
       "    }\n",
       "\n",
       "    .dataframe tbody tr th {\n",
       "        vertical-align: top;\n",
       "    }\n",
       "\n",
       "    .dataframe thead th {\n",
       "        text-align: right;\n",
       "    }\n",
       "</style>\n",
       "<table border=\"1\" class=\"dataframe\">\n",
       "  <thead>\n",
       "    <tr style=\"text-align: right;\">\n",
       "      <th></th>\n",
       "      <th>UNITID</th>\n",
       "      <th>percentage</th>\n",
       "      <th>labels</th>\n",
       "    </tr>\n",
       "    <tr>\n",
       "      <th>CONTROL</th>\n",
       "      <th></th>\n",
       "      <th></th>\n",
       "      <th></th>\n",
       "    </tr>\n",
       "  </thead>\n",
       "  <tbody>\n",
       "    <tr>\n",
       "      <td>1</td>\n",
       "      <td>6251</td>\n",
       "      <td>0.31</td>\n",
       "      <td>Public</td>\n",
       "    </tr>\n",
       "    <tr>\n",
       "      <td>2</td>\n",
       "      <td>6088</td>\n",
       "      <td>0.29</td>\n",
       "      <td>Private nonprofit</td>\n",
       "    </tr>\n",
       "    <tr>\n",
       "      <td>3</td>\n",
       "      <td>8817</td>\n",
       "      <td>0.39</td>\n",
       "      <td>Private for-profit</td>\n",
       "    </tr>\n",
       "  </tbody>\n",
       "</table>\n",
       "</div>"
      ],
      "text/plain": [
       "         UNITID  percentage              labels\n",
       "CONTROL                                        \n",
       "1          6251        0.31              Public\n",
       "2          6088        0.29   Private nonprofit\n",
       "3          8817        0.39  Private for-profit"
      ]
     },
     "execution_count": 13,
     "metadata": {},
     "output_type": "execute_result"
    }
   ],
   "source": [
    "#crosstab of types of institions in dataset: public,private\n",
    "owner=df.groupby('CONTROL').agg({'UNITID': 'count'})\n",
    "owner_percent=pd.crosstab(index=df['CONTROL'],columns=df.LOCALE,normalize='columns',margins=True)\n",
    "o_percent=owner_percent.All\n",
    "owner['percentage']= o_percent\n",
    "owner['labels']= ['Public','Private nonprofit','Private for-profit']\n",
    "owner"
   ]
  },
  {
   "cell_type": "code",
   "execution_count": 16,
   "metadata": {},
   "outputs": [
    {
     "name": "stdout",
     "output_type": "stream",
     "text": [
      "There are 100 historically black institutions.\n",
      "There are 101 predominantly black institutions.\n",
      "There are 36 Alaska Native, Native Hawaiian serving institutions.\n",
      "There are 35 tribal colleges and universities.\n",
      "There are 162 Asian American, Native American, and Pacific Islander serving institutions.\n",
      "There are 461 Hispanic serving institutions.\n",
      "There are 28 Native American non-tribal institutions\n",
      "There are 62 men only colleges.\n",
      "There are 35 women only colleges.\n"
     ]
    }
   ],
   "source": [
    "#number of institutions serving certain demographics\n",
    "print(\"There are\",len(df.loc[df['HBCU']==1]),\"historically black institutions.\")\n",
    "print(\"There are\",len(df.loc[df['PBI']==1]),\"predominantly black institutions.\")\n",
    "print(\"There are\",len(df.loc[df['ANNHI']==1]),\"Alaska Native, Native Hawaiian serving institutions.\")\n",
    "print(\"There are\",len(df.loc[df['TRIBAL']==1]),\"tribal colleges and universities.\")\n",
    "print(\"There are\",len(df.loc[df['AANAPII']==1]),\"Asian American, Native American, and Pacific Islander serving institutions.\")\n",
    "print(\"There are\",len(df.loc[df['HSI']==1]),\"Hispanic serving institutions.\")\n",
    "print(\"There are\",len(df.loc[df['NANTI']==1]),\"Native American non-tribal institutions\")\n",
    "print(\"There are\",len(df.loc[df['MENONLY']==1]),\"men only colleges.\")\n",
    "print(\"There are\",len(df.loc[df['WOMENONLY']==1]),\"women only colleges.\")"
   ]
  },
  {
   "cell_type": "markdown",
   "metadata": {},
   "source": [
    "**Admissions**:\n",
    "This group of data elements describes each institution's individual acceptance rate, as well as the averages of SAT/ACT scores of admitted students. There are many missing values for the particular admission rate column used below with a count of only 6,084 of 21,156 rows but from what is provied, the admission rates in the file range from 0% to 100% with a median of 70% and a similar average of 68% admission so the values that are not null are well distributed."
   ]
  },
  {
   "cell_type": "code",
   "execution_count": 17,
   "metadata": {},
   "outputs": [
    {
     "data": {
      "text/plain": [
       "count   6084.00\n",
       "mean       0.68\n",
       "std        0.21\n",
       "min        0.00\n",
       "25%        0.55\n",
       "50%        0.70\n",
       "75%        0.84\n",
       "max        1.00\n",
       "Name: ADM_RATE, dtype: float64"
      ]
     },
     "execution_count": 17,
     "metadata": {},
     "output_type": "execute_result"
    }
   ],
   "source": [
    "#taking a look at admission rates\n",
    "df.ADM_RATE.describe()"
   ]
  },
  {
   "cell_type": "markdown",
   "metadata": {},
   "source": [
    "**Academics**:\n",
    "This group of data elements describes the type of majors the school offers and the number of degrees and certifications they offer. There are 38 different subjects for percentage of degrees awarded included in the file."
   ]
  },
  {
   "cell_type": "code",
   "execution_count": 18,
   "metadata": {},
   "outputs": [
    {
     "name": "stdout",
     "output_type": "stream",
     "text": [
      "38\n"
     ]
    }
   ],
   "source": [
    "#getting the number of different types of degrees awarded \n",
    "#taken from the columns of the dataset starting with \"PCIP\" which contain the percentage of degrees awarded in x subject\n",
    "degrees = [col for col in df.columns if 'PCIP' in col]\n",
    "print(len(degrees))"
   ]
  },
  {
   "cell_type": "markdown",
   "metadata": {},
   "source": [
    "**Student**: The files also includes multiple factors that identify the demographics of the student body attending a particular university as well as the number of undergraduate students enrolled in the Fall. The average percentage of male students is 35% and the average percentage of female students enrolled in is 65%."
   ]
  },
  {
   "cell_type": "code",
   "execution_count": 20,
   "metadata": {},
   "outputs": [
    {
     "data": {
      "text/plain": [
       "count   18899.00\n",
       "mean        0.35\n",
       "std         0.24\n",
       "min         0.00\n",
       "25%         0.14\n",
       "50%         0.37\n",
       "75%         0.47\n",
       "max         1.00\n",
       "Name: UGDS_MEN, dtype: float64"
      ]
     },
     "execution_count": 20,
     "metadata": {},
     "output_type": "execute_result"
    }
   ],
   "source": [
    "df.UGDS_MEN.describe()"
   ]
  },
  {
   "cell_type": "code",
   "execution_count": 21,
   "metadata": {},
   "outputs": [
    {
     "data": {
      "text/plain": [
       "count   18899.00\n",
       "mean        0.65\n",
       "std         0.24\n",
       "min         0.00\n",
       "25%         0.53\n",
       "50%         0.63\n",
       "75%         0.86\n",
       "max         1.00\n",
       "Name: UGDS_WOMEN, dtype: float64"
      ]
     },
     "execution_count": 21,
     "metadata": {},
     "output_type": "execute_result"
    }
   ],
   "source": [
    "df.UGDS_WOMEN.describe()"
   ]
  },
  {
   "cell_type": "markdown",
   "metadata": {},
   "source": [
    "\n",
    "**Financial**\n",
    "\n",
    "---\n",
    "\n",
    "**Costs**: Data in this category explores many financial aspects of the institutions including cost of attendance, financial aid, in-state and out-of-state tuition, and average net price of attendance. The data contains many categories for detailing financial aid including federal loans and Pell Grants. The average cost of attendance for the institution's academic year, which includes tuition, fees, and other expenses ranges from \\\\$3,930 to \\\\$96,375 with a median of \\\\$22,616. The file also contains information on the amount of loan debt a student acrues."
   ]
  },
  {
   "cell_type": "code",
   "execution_count": 22,
   "metadata": {},
   "outputs": [
    {
     "data": {
      "text/plain": [
       "count   10671.00\n",
       "mean    26356.17\n",
       "std     15062.20\n",
       "min      3930.00\n",
       "25%     14001.00\n",
       "50%     22616.00\n",
       "75%     34345.50\n",
       "max     96375.00\n",
       "Name: COSTT4_A, dtype: float64"
      ]
     },
     "execution_count": 22,
     "metadata": {},
     "output_type": "execute_result"
    }
   ],
   "source": [
    "df.COSTT4_A.describe()"
   ]
  },
  {
   "cell_type": "markdown",
   "metadata": {},
   "source": [
    "**Completion and Retention**: \n",
    "These groups of data elements measure the completion rate of a particular university. They measure other related factors like student loan repayment and if a graduate has found a job. "
   ]
  },
  {
   "cell_type": "markdown",
   "metadata": {},
   "source": [
    "###  Data Quality Assurance Plan\n",
    "\n",
    "Our treament of the null and NaN values within the columns we are interested in is to remove them given the size of the dataset and the limited time we have had to truly examine and explore the set. Missing data within those values will affect our distributions and correlations.\n",
    "\n",
    "For every row that is missing the data that we need, we will factor them out. This is because we want to find universities with relevant information and any university without information regarding SAT Math isn't need in our analysis. As the dataset has many columns, a majority of which we will not be needing, so rows with null values in those columns will not need to be addressed. \n",
    "\n",
    "When comparing the percentage of degrees awarded,while not transforming the datatype itself, we will be assigning boolean values based if the degree would fall under the STEM category or not. "
   ]
  },
  {
   "cell_type": "markdown",
   "metadata": {},
   "source": [
    "## SECTION 3: Quality Assurance Plan Execution"
   ]
  },
  {
   "cell_type": "markdown",
   "metadata": {},
   "source": [
    "Using the College Scorecard dataset provided, our team was interesting in look at how SAT Math scores of admitted students of an institution and how it may correlate to the amount of STEM degrees that institution awards. After calling just the head of the file with the first 15 rows, there are three rows of each of the schools in our dataframe with indentical UNITID's and OPEID's since the dataset is a merged file from 2017 to 2019 with one row of each school for each year included. The UNITID's and OPEID's would serve as unique identifiers however the multiplicity of the rows nullified that. In order to remedy this as well as due to the size of the file, we decided to obtain only one row for each school. We removed the duplicate using the 'CCBASIC' Carnegie Foundation classifier which was not null for only one row per distinct institution. It was also observed by looking through the dataset that the rows with this identifier value had less null values in other columns so these were the rows we chose to keep as it reduces the nulls in other columns as well. This leaves us with 6,331 institutions of the original 21,156 rows of the dataset."
   ]
  },
  {
   "cell_type": "markdown",
   "metadata": {},
   "source": [
    "Since our hypothesis is based on the STEM degrees awared as well as SAT scores, we wanted to limit our analysis to only four year instituitons where bachelor degrees were predominantly awarded using the categorical 'PREDDEG' column since we did not want to include instituations mainly awarding certificates or higher degrees as SAT scores would be less relevant there. This brought our row count to 2,058 institutions. Since we specifically wanted to look at the median SAT Math score for admission, and given the time constraint and unfamiliarity with the dataset, we chose to removed all rows that did not contain a value for the 'SATMTMID' row rather than fill it with a mean or median. Filling the nulls with the mean or median would could have affected the correlations and distributions we are to find so we chose not to do that. Using the CCBASIC classifier helped us eliminate rows with many missing values, any row the still has missing values at this stage can still remain since we would not need to examine or analyze those columns for our purposes. "
   ]
  },
  {
   "cell_type": "markdown",
   "metadata": {},
   "source": [
    "Using the describe function to obtain the deciles of the Median SAT Math score('SATMTMID'), we determined that our target variable will be the highest decile, where the median SAT Math score for those institutions is greater than 660. We coded those in the 90th percentile which we label as high scorers as 1 and those below as 0. We found that 126 institutions are within our target and 1,081 are not. "
   ]
  },
  {
   "cell_type": "code",
   "execution_count": 23,
   "metadata": {},
   "outputs": [
    {
     "data": {
      "text/html": [
       "<div>\n",
       "<style scoped>\n",
       "    .dataframe tbody tr th:only-of-type {\n",
       "        vertical-align: middle;\n",
       "    }\n",
       "\n",
       "    .dataframe tbody tr th {\n",
       "        vertical-align: top;\n",
       "    }\n",
       "\n",
       "    .dataframe thead th {\n",
       "        text-align: right;\n",
       "    }\n",
       "</style>\n",
       "<table border=\"1\" class=\"dataframe\">\n",
       "  <thead>\n",
       "    <tr style=\"text-align: right;\">\n",
       "      <th></th>\n",
       "      <th>Unnamed: 0</th>\n",
       "      <th>UNITID</th>\n",
       "      <th>OPEID</th>\n",
       "      <th>OPEID6</th>\n",
       "      <th>INSTNM</th>\n",
       "      <th>CITY</th>\n",
       "      <th>STABBR</th>\n",
       "      <th>ZIP</th>\n",
       "      <th>ACCREDAGENCY</th>\n",
       "      <th>INSTURL</th>\n",
       "      <th>...</th>\n",
       "      <th>FTFTPCTPELL</th>\n",
       "      <th>FTFTPCTFLOAN</th>\n",
       "      <th>UG12MN</th>\n",
       "      <th>G12MN</th>\n",
       "      <th>SCUGFFN</th>\n",
       "      <th>POOLYRS_FTFTAIDPCT</th>\n",
       "      <th>FTFTPCTPELL_POOLED_SUPP</th>\n",
       "      <th>FTFTPCTFLOAN_POOLED_SUPP</th>\n",
       "      <th>SCUGFFN_POOLED</th>\n",
       "      <th>YEAR</th>\n",
       "    </tr>\n",
       "  </thead>\n",
       "  <tbody>\n",
       "    <tr>\n",
       "      <td>0</td>\n",
       "      <td>9</td>\n",
       "      <td>100654</td>\n",
       "      <td>100200</td>\n",
       "      <td>1002</td>\n",
       "      <td>Alabama A &amp; M University</td>\n",
       "      <td>Normal</td>\n",
       "      <td>AL</td>\n",
       "      <td>35762</td>\n",
       "      <td>NaN</td>\n",
       "      <td>NaN</td>\n",
       "      <td>...</td>\n",
       "      <td>0.74</td>\n",
       "      <td>0.75</td>\n",
       "      <td>4865.00</td>\n",
       "      <td>1292.00</td>\n",
       "      <td>1473.00</td>\n",
       "      <td>nan</td>\n",
       "      <td>NaN</td>\n",
       "      <td>NaN</td>\n",
       "      <td>nan</td>\n",
       "      <td>2019</td>\n",
       "    </tr>\n",
       "    <tr>\n",
       "      <td>1</td>\n",
       "      <td>0</td>\n",
       "      <td>100654</td>\n",
       "      <td>100200</td>\n",
       "      <td>1002</td>\n",
       "      <td>Alabama A &amp; M University</td>\n",
       "      <td>Normal</td>\n",
       "      <td>AL</td>\n",
       "      <td>35762</td>\n",
       "      <td>Southern Association of Colleges and Schools C...</td>\n",
       "      <td>www.aamu.edu/</td>\n",
       "      <td>...</td>\n",
       "      <td>0.71</td>\n",
       "      <td>0.71</td>\n",
       "      <td>5343.00</td>\n",
       "      <td>1165.00</td>\n",
       "      <td>1288.00</td>\n",
       "      <td>2.00</td>\n",
       "      <td>0.7083</td>\n",
       "      <td>0.7287</td>\n",
       "      <td>2698.00</td>\n",
       "      <td>2017</td>\n",
       "    </tr>\n",
       "    <tr>\n",
       "      <td>2</td>\n",
       "      <td>0</td>\n",
       "      <td>100654</td>\n",
       "      <td>100200</td>\n",
       "      <td>1002</td>\n",
       "      <td>Alabama A &amp; M University</td>\n",
       "      <td>Normal</td>\n",
       "      <td>AL</td>\n",
       "      <td>35762</td>\n",
       "      <td>NaN</td>\n",
       "      <td>NaN</td>\n",
       "      <td>...</td>\n",
       "      <td>0.71</td>\n",
       "      <td>0.74</td>\n",
       "      <td>5207.00</td>\n",
       "      <td>1185.00</td>\n",
       "      <td>1410.00</td>\n",
       "      <td>nan</td>\n",
       "      <td>NaN</td>\n",
       "      <td>NaN</td>\n",
       "      <td>nan</td>\n",
       "      <td>2018</td>\n",
       "    </tr>\n",
       "    <tr>\n",
       "      <td>3</td>\n",
       "      <td>10</td>\n",
       "      <td>100663</td>\n",
       "      <td>105200</td>\n",
       "      <td>1052</td>\n",
       "      <td>University of Alabama at Birmingham</td>\n",
       "      <td>Birmingham</td>\n",
       "      <td>AL</td>\n",
       "      <td>35294-0110</td>\n",
       "      <td>NaN</td>\n",
       "      <td>NaN</td>\n",
       "      <td>...</td>\n",
       "      <td>0.34</td>\n",
       "      <td>0.49</td>\n",
       "      <td>13440.00</td>\n",
       "      <td>8114.00</td>\n",
       "      <td>1593.00</td>\n",
       "      <td>nan</td>\n",
       "      <td>NaN</td>\n",
       "      <td>NaN</td>\n",
       "      <td>nan</td>\n",
       "      <td>2019</td>\n",
       "    </tr>\n",
       "    <tr>\n",
       "      <td>4</td>\n",
       "      <td>1</td>\n",
       "      <td>100663</td>\n",
       "      <td>105200</td>\n",
       "      <td>1052</td>\n",
       "      <td>University of Alabama at Birmingham</td>\n",
       "      <td>Birmingham</td>\n",
       "      <td>AL</td>\n",
       "      <td>35294-0110</td>\n",
       "      <td>NaN</td>\n",
       "      <td>NaN</td>\n",
       "      <td>...</td>\n",
       "      <td>0.40</td>\n",
       "      <td>0.55</td>\n",
       "      <td>13308.00</td>\n",
       "      <td>9888.00</td>\n",
       "      <td>1948.00</td>\n",
       "      <td>nan</td>\n",
       "      <td>NaN</td>\n",
       "      <td>NaN</td>\n",
       "      <td>nan</td>\n",
       "      <td>2018</td>\n",
       "    </tr>\n",
       "    <tr>\n",
       "      <td>5</td>\n",
       "      <td>1</td>\n",
       "      <td>100663</td>\n",
       "      <td>105200</td>\n",
       "      <td>1052</td>\n",
       "      <td>University of Alabama at Birmingham</td>\n",
       "      <td>Birmingham</td>\n",
       "      <td>AL</td>\n",
       "      <td>35294-0110</td>\n",
       "      <td>Southern Association of Colleges and Schools C...</td>\n",
       "      <td>https://www.uab.edu</td>\n",
       "      <td>...</td>\n",
       "      <td>0.38</td>\n",
       "      <td>0.54</td>\n",
       "      <td>14445.00</td>\n",
       "      <td>10498.00</td>\n",
       "      <td>2228.00</td>\n",
       "      <td>2.00</td>\n",
       "      <td>0.3891</td>\n",
       "      <td>0.5414</td>\n",
       "      <td>4176.00</td>\n",
       "      <td>2017</td>\n",
       "    </tr>\n",
       "    <tr>\n",
       "      <td>6</td>\n",
       "      <td>2</td>\n",
       "      <td>100690</td>\n",
       "      <td>2503400</td>\n",
       "      <td>25034</td>\n",
       "      <td>Amridge University</td>\n",
       "      <td>Montgomery</td>\n",
       "      <td>AL</td>\n",
       "      <td>36117-3553</td>\n",
       "      <td>Southern Association of Colleges and Schools C...</td>\n",
       "      <td>www.amridgeuniversity.edu</td>\n",
       "      <td>...</td>\n",
       "      <td>1.00</td>\n",
       "      <td>1.00</td>\n",
       "      <td>440.00</td>\n",
       "      <td>527.00</td>\n",
       "      <td>5.00</td>\n",
       "      <td>4.00</td>\n",
       "      <td>PrivacySuppressed</td>\n",
       "      <td>PrivacySuppressed</td>\n",
       "      <td>24.00</td>\n",
       "      <td>2017</td>\n",
       "    </tr>\n",
       "    <tr>\n",
       "      <td>7</td>\n",
       "      <td>11</td>\n",
       "      <td>100690</td>\n",
       "      <td>2503400</td>\n",
       "      <td>25034</td>\n",
       "      <td>Amridge University</td>\n",
       "      <td>Montgomery</td>\n",
       "      <td>AL</td>\n",
       "      <td>36117-3553</td>\n",
       "      <td>NaN</td>\n",
       "      <td>NaN</td>\n",
       "      <td>...</td>\n",
       "      <td>0.83</td>\n",
       "      <td>1.00</td>\n",
       "      <td>415.00</td>\n",
       "      <td>415.00</td>\n",
       "      <td>6.00</td>\n",
       "      <td>nan</td>\n",
       "      <td>NaN</td>\n",
       "      <td>NaN</td>\n",
       "      <td>nan</td>\n",
       "      <td>2019</td>\n",
       "    </tr>\n",
       "    <tr>\n",
       "      <td>8</td>\n",
       "      <td>2</td>\n",
       "      <td>100690</td>\n",
       "      <td>2503400</td>\n",
       "      <td>25034</td>\n",
       "      <td>Amridge University</td>\n",
       "      <td>Montgomery</td>\n",
       "      <td>AL</td>\n",
       "      <td>36117-3553</td>\n",
       "      <td>NaN</td>\n",
       "      <td>NaN</td>\n",
       "      <td>...</td>\n",
       "      <td>0.50</td>\n",
       "      <td>0.50</td>\n",
       "      <td>431.00</td>\n",
       "      <td>437.00</td>\n",
       "      <td>4.00</td>\n",
       "      <td>nan</td>\n",
       "      <td>NaN</td>\n",
       "      <td>NaN</td>\n",
       "      <td>nan</td>\n",
       "      <td>2018</td>\n",
       "    </tr>\n",
       "    <tr>\n",
       "      <td>9</td>\n",
       "      <td>3</td>\n",
       "      <td>100706</td>\n",
       "      <td>105500</td>\n",
       "      <td>1055</td>\n",
       "      <td>University of Alabama in Huntsville</td>\n",
       "      <td>Huntsville</td>\n",
       "      <td>AL</td>\n",
       "      <td>35899</td>\n",
       "      <td>NaN</td>\n",
       "      <td>NaN</td>\n",
       "      <td>...</td>\n",
       "      <td>0.20</td>\n",
       "      <td>0.42</td>\n",
       "      <td>7519.00</td>\n",
       "      <td>2378.00</td>\n",
       "      <td>1203.00</td>\n",
       "      <td>nan</td>\n",
       "      <td>NaN</td>\n",
       "      <td>NaN</td>\n",
       "      <td>nan</td>\n",
       "      <td>2018</td>\n",
       "    </tr>\n",
       "    <tr>\n",
       "      <td>10</td>\n",
       "      <td>12</td>\n",
       "      <td>100706</td>\n",
       "      <td>105500</td>\n",
       "      <td>1055</td>\n",
       "      <td>University of Alabama in Huntsville</td>\n",
       "      <td>Huntsville</td>\n",
       "      <td>AL</td>\n",
       "      <td>35899</td>\n",
       "      <td>NaN</td>\n",
       "      <td>NaN</td>\n",
       "      <td>...</td>\n",
       "      <td>0.25</td>\n",
       "      <td>0.40</td>\n",
       "      <td>6994.00</td>\n",
       "      <td>2212.00</td>\n",
       "      <td>1027.00</td>\n",
       "      <td>nan</td>\n",
       "      <td>NaN</td>\n",
       "      <td>NaN</td>\n",
       "      <td>nan</td>\n",
       "      <td>2019</td>\n",
       "    </tr>\n",
       "    <tr>\n",
       "      <td>11</td>\n",
       "      <td>3</td>\n",
       "      <td>100706</td>\n",
       "      <td>105500</td>\n",
       "      <td>1055</td>\n",
       "      <td>University of Alabama in Huntsville</td>\n",
       "      <td>Huntsville</td>\n",
       "      <td>AL</td>\n",
       "      <td>35899</td>\n",
       "      <td>Southern Association of Colleges and Schools C...</td>\n",
       "      <td>www.uah.edu</td>\n",
       "      <td>...</td>\n",
       "      <td>0.27</td>\n",
       "      <td>0.46</td>\n",
       "      <td>8145.00</td>\n",
       "      <td>2443.00</td>\n",
       "      <td>1341.00</td>\n",
       "      <td>2.00</td>\n",
       "      <td>0.2378</td>\n",
       "      <td>0.4402</td>\n",
       "      <td>2544.00</td>\n",
       "      <td>2017</td>\n",
       "    </tr>\n",
       "    <tr>\n",
       "      <td>12</td>\n",
       "      <td>4</td>\n",
       "      <td>100724</td>\n",
       "      <td>100500</td>\n",
       "      <td>1005</td>\n",
       "      <td>Alabama State University</td>\n",
       "      <td>Montgomery</td>\n",
       "      <td>AL</td>\n",
       "      <td>36104-0271</td>\n",
       "      <td>NaN</td>\n",
       "      <td>NaN</td>\n",
       "      <td>...</td>\n",
       "      <td>0.76</td>\n",
       "      <td>0.74</td>\n",
       "      <td>5229.00</td>\n",
       "      <td>687.00</td>\n",
       "      <td>1143.00</td>\n",
       "      <td>nan</td>\n",
       "      <td>NaN</td>\n",
       "      <td>NaN</td>\n",
       "      <td>nan</td>\n",
       "      <td>2018</td>\n",
       "    </tr>\n",
       "    <tr>\n",
       "      <td>13</td>\n",
       "      <td>4</td>\n",
       "      <td>100724</td>\n",
       "      <td>100500</td>\n",
       "      <td>1005</td>\n",
       "      <td>Alabama State University</td>\n",
       "      <td>Montgomery</td>\n",
       "      <td>AL</td>\n",
       "      <td>36104-0271</td>\n",
       "      <td>Southern Association of Colleges and Schools C...</td>\n",
       "      <td>www.alasu.edu</td>\n",
       "      <td>...</td>\n",
       "      <td>0.78</td>\n",
       "      <td>0.75</td>\n",
       "      <td>4732.00</td>\n",
       "      <td>642.00</td>\n",
       "      <td>951.00</td>\n",
       "      <td>2.00</td>\n",
       "      <td>0.7684</td>\n",
       "      <td>0.7464</td>\n",
       "      <td>2094.00</td>\n",
       "      <td>2017</td>\n",
       "    </tr>\n",
       "    <tr>\n",
       "      <td>14</td>\n",
       "      <td>13</td>\n",
       "      <td>100724</td>\n",
       "      <td>100500</td>\n",
       "      <td>1005</td>\n",
       "      <td>Alabama State University</td>\n",
       "      <td>Montgomery</td>\n",
       "      <td>AL</td>\n",
       "      <td>36104-0271</td>\n",
       "      <td>NaN</td>\n",
       "      <td>NaN</td>\n",
       "      <td>...</td>\n",
       "      <td>0.75</td>\n",
       "      <td>0.82</td>\n",
       "      <td>5373.00</td>\n",
       "      <td>728.00</td>\n",
       "      <td>1008.00</td>\n",
       "      <td>nan</td>\n",
       "      <td>NaN</td>\n",
       "      <td>NaN</td>\n",
       "      <td>nan</td>\n",
       "      <td>2019</td>\n",
       "    </tr>\n",
       "  </tbody>\n",
       "</table>\n",
       "<p>15 rows × 1988 columns</p>\n",
       "</div>"
      ],
      "text/plain": [
       "    Unnamed: 0  UNITID    OPEID  OPEID6                               INSTNM  \\\n",
       "0            9  100654   100200    1002             Alabama A & M University   \n",
       "1            0  100654   100200    1002             Alabama A & M University   \n",
       "2            0  100654   100200    1002             Alabama A & M University   \n",
       "3           10  100663   105200    1052  University of Alabama at Birmingham   \n",
       "4            1  100663   105200    1052  University of Alabama at Birmingham   \n",
       "5            1  100663   105200    1052  University of Alabama at Birmingham   \n",
       "6            2  100690  2503400   25034                   Amridge University   \n",
       "7           11  100690  2503400   25034                   Amridge University   \n",
       "8            2  100690  2503400   25034                   Amridge University   \n",
       "9            3  100706   105500    1055  University of Alabama in Huntsville   \n",
       "10          12  100706   105500    1055  University of Alabama in Huntsville   \n",
       "11           3  100706   105500    1055  University of Alabama in Huntsville   \n",
       "12           4  100724   100500    1005             Alabama State University   \n",
       "13           4  100724   100500    1005             Alabama State University   \n",
       "14          13  100724   100500    1005             Alabama State University   \n",
       "\n",
       "          CITY STABBR         ZIP  \\\n",
       "0       Normal     AL       35762   \n",
       "1       Normal     AL       35762   \n",
       "2       Normal     AL       35762   \n",
       "3   Birmingham     AL  35294-0110   \n",
       "4   Birmingham     AL  35294-0110   \n",
       "5   Birmingham     AL  35294-0110   \n",
       "6   Montgomery     AL  36117-3553   \n",
       "7   Montgomery     AL  36117-3553   \n",
       "8   Montgomery     AL  36117-3553   \n",
       "9   Huntsville     AL       35899   \n",
       "10  Huntsville     AL       35899   \n",
       "11  Huntsville     AL       35899   \n",
       "12  Montgomery     AL  36104-0271   \n",
       "13  Montgomery     AL  36104-0271   \n",
       "14  Montgomery     AL  36104-0271   \n",
       "\n",
       "                                         ACCREDAGENCY  \\\n",
       "0                                                 NaN   \n",
       "1   Southern Association of Colleges and Schools C...   \n",
       "2                                                 NaN   \n",
       "3                                                 NaN   \n",
       "4                                                 NaN   \n",
       "5   Southern Association of Colleges and Schools C...   \n",
       "6   Southern Association of Colleges and Schools C...   \n",
       "7                                                 NaN   \n",
       "8                                                 NaN   \n",
       "9                                                 NaN   \n",
       "10                                                NaN   \n",
       "11  Southern Association of Colleges and Schools C...   \n",
       "12                                                NaN   \n",
       "13  Southern Association of Colleges and Schools C...   \n",
       "14                                                NaN   \n",
       "\n",
       "                      INSTURL  ... FTFTPCTPELL  FTFTPCTFLOAN   UG12MN  \\\n",
       "0                         NaN  ...        0.74          0.75  4865.00   \n",
       "1               www.aamu.edu/  ...        0.71          0.71  5343.00   \n",
       "2                         NaN  ...        0.71          0.74  5207.00   \n",
       "3                         NaN  ...        0.34          0.49 13440.00   \n",
       "4                         NaN  ...        0.40          0.55 13308.00   \n",
       "5         https://www.uab.edu  ...        0.38          0.54 14445.00   \n",
       "6   www.amridgeuniversity.edu  ...        1.00          1.00   440.00   \n",
       "7                         NaN  ...        0.83          1.00   415.00   \n",
       "8                         NaN  ...        0.50          0.50   431.00   \n",
       "9                         NaN  ...        0.20          0.42  7519.00   \n",
       "10                        NaN  ...        0.25          0.40  6994.00   \n",
       "11                www.uah.edu  ...        0.27          0.46  8145.00   \n",
       "12                        NaN  ...        0.76          0.74  5229.00   \n",
       "13              www.alasu.edu  ...        0.78          0.75  4732.00   \n",
       "14                        NaN  ...        0.75          0.82  5373.00   \n",
       "\n",
       "      G12MN  SCUGFFN  POOLYRS_FTFTAIDPCT  FTFTPCTPELL_POOLED_SUPP  \\\n",
       "0   1292.00  1473.00                 nan                      NaN   \n",
       "1   1165.00  1288.00                2.00                   0.7083   \n",
       "2   1185.00  1410.00                 nan                      NaN   \n",
       "3   8114.00  1593.00                 nan                      NaN   \n",
       "4   9888.00  1948.00                 nan                      NaN   \n",
       "5  10498.00  2228.00                2.00                   0.3891   \n",
       "6    527.00     5.00                4.00        PrivacySuppressed   \n",
       "7    415.00     6.00                 nan                      NaN   \n",
       "8    437.00     4.00                 nan                      NaN   \n",
       "9   2378.00  1203.00                 nan                      NaN   \n",
       "10  2212.00  1027.00                 nan                      NaN   \n",
       "11  2443.00  1341.00                2.00                   0.2378   \n",
       "12   687.00  1143.00                 nan                      NaN   \n",
       "13   642.00   951.00                2.00                   0.7684   \n",
       "14   728.00  1008.00                 nan                      NaN   \n",
       "\n",
       "    FTFTPCTFLOAN_POOLED_SUPP  SCUGFFN_POOLED  YEAR  \n",
       "0                        NaN             nan  2019  \n",
       "1                     0.7287         2698.00  2017  \n",
       "2                        NaN             nan  2018  \n",
       "3                        NaN             nan  2019  \n",
       "4                        NaN             nan  2018  \n",
       "5                     0.5414         4176.00  2017  \n",
       "6          PrivacySuppressed           24.00  2017  \n",
       "7                        NaN             nan  2019  \n",
       "8                        NaN             nan  2018  \n",
       "9                        NaN             nan  2018  \n",
       "10                       NaN             nan  2019  \n",
       "11                    0.4402         2544.00  2017  \n",
       "12                       NaN             nan  2018  \n",
       "13                    0.7464         2094.00  2017  \n",
       "14                       NaN             nan  2019  \n",
       "\n",
       "[15 rows x 1988 columns]"
      ]
     },
     "execution_count": 23,
     "metadata": {},
     "output_type": "execute_result"
    }
   ],
   "source": [
    "df.head(15)"
   ]
  },
  {
   "cell_type": "code",
   "execution_count": 24,
   "metadata": {},
   "outputs": [
    {
     "data": {
      "text/plain": [
       "(6331, 1988)"
      ]
     },
     "execution_count": 24,
     "metadata": {},
     "output_type": "execute_result"
    }
   ],
   "source": [
    "#obtaining one row for each institution using the Carnegie Classification identifier\n",
    "df_1school=df.dropna(how='all',subset=['CCBASIC'])\n",
    "df_1school.shape"
   ]
  },
  {
   "cell_type": "code",
   "execution_count": 25,
   "metadata": {},
   "outputs": [
    {
     "data": {
      "text/plain": [
       "(2058, 1988)"
      ]
     },
     "execution_count": 25,
     "metadata": {},
     "output_type": "execute_result"
    }
   ],
   "source": [
    "#obtaining only 4 year, bachelor degree granting institutuions \n",
    "fouryearuni = (df_1school.loc[df_1school['PREDDEG']==3])\n",
    "fouryearuni.shape"
   ]
  },
  {
   "cell_type": "code",
   "execution_count": 26,
   "metadata": {},
   "outputs": [
    {
     "data": {
      "text/plain": [
       "1       465.00\n",
       "5       555.00\n",
       "11      565.00\n",
       "13      465.00\n",
       "16      580.00\n",
       "         ...  \n",
       "19096   580.00\n",
       "19111   595.00\n",
       "19213   515.00\n",
       "19539   485.00\n",
       "19661   490.00\n",
       "Name: SATMTMID, Length: 1207, dtype: float64"
      ]
     },
     "execution_count": 26,
     "metadata": {},
     "output_type": "execute_result"
    }
   ],
   "source": [
    "#dropping all rows that have null values in our target column of median SAT Math scores\n",
    "satmath = fouryearuni.dropna(how='all', subset=['SATMTMID'])\n",
    "satmath['SATMTMID']"
   ]
  },
  {
   "cell_type": "code",
   "execution_count": 27,
   "metadata": {},
   "outputs": [
    {
     "data": {
      "text/plain": [
       "count   1207.00\n",
       "mean     561.76\n",
       "std       69.68\n",
       "min      370.00\n",
       "0%       370.00\n",
       "10%      490.00\n",
       "20%      507.40\n",
       "30%      525.00\n",
       "40%      535.00\n",
       "50%      550.00\n",
       "60%      565.00\n",
       "70%      580.00\n",
       "80%      607.60\n",
       "90%      660.00\n",
       "100%     795.00\n",
       "max      795.00\n",
       "Name: SATMTMID, dtype: float64"
      ]
     },
     "execution_count": 27,
     "metadata": {},
     "output_type": "execute_result"
    }
   ],
   "source": [
    "#generating deciles for our target column\n",
    "sat_deciles=satmath['SATMTMID'].describe(percentiles=[0,.1,.2,.3,.4,.5,.6,.7,.8,.9,1])\n",
    "sat_deciles"
   ]
  },
  {
   "cell_type": "code",
   "execution_count": 29,
   "metadata": {},
   "outputs": [
    {
     "name": "stderr",
     "output_type": "stream",
     "text": [
      "C:\\Users\\catdo\\Anaconda3\\lib\\site-packages\\ipykernel_launcher.py:14: SettingWithCopyWarning: \n",
      "A value is trying to be set on a copy of a slice from a DataFrame.\n",
      "Try using .loc[row_indexer,col_indexer] = value instead\n",
      "\n",
      "See the caveats in the documentation: http://pandas.pydata.org/pandas-docs/stable/user_guide/indexing.html#returning-a-view-versus-a-copy\n",
      "  \n"
     ]
    },
    {
     "data": {
      "image/png": "[encoded data removed]",
      "text/plain": [
       "<Figure size 432x288 with 1 Axes>"
      ]
     },
     "metadata": {
      "needs_background": "light"
     },
     "output_type": "display_data"
    }
   ],
   "source": [
    "def scorebands (satmath):\n",
    "    if satmath['SATMTMID']< 490: return 1\n",
    "    elif (satmath['SATMTMID']>= 490 and satmath['SATMTMID']<507.4): return 2\n",
    "    elif (satmath['SATMTMID']>= 507.4 and satmath['SATMTMID']<525): return 3\n",
    "    elif (satmath['SATMTMID']>= 525 and satmath['SATMTMID']<535): return 4\n",
    "    elif (satmath['SATMTMID']>= 535 and satmath['SATMTMID']<550): return 5\n",
    "    elif (satmath['SATMTMID']>= 550 and satmath['SATMTMID']<565): return 6\n",
    "    elif (satmath['SATMTMID']>= 565 and satmath['SATMTMID']<580): return 7\n",
    "    elif (satmath['SATMTMID']>= 580 and satmath['SATMTMID']<607): return 8\n",
    "    elif (satmath['SATMTMID']>= 607 and satmath['SATMTMID']<660): return 9\n",
    "    elif (satmath['SATMTMID']>= 660 and satmath['SATMTMID']<=795): return 10\n",
    "    else : return 99\n",
    "    \n",
    "satmath['SATMath_grps']=satmath.apply(scorebands,axis=1)\n",
    "satmath_counts=satmath.groupby('SATMath_grps').agg({'UNITID': 'count'})\n",
    "satmath_counts.rename(columns={satmath_counts.columns[0]:\"num_unis\"},inplace= True)\n",
    "\n",
    "satmath_counts.plot(kind='bar')\n",
    "plt.title(\"Distribution of Median SAT Math Scores for Admission\")\n",
    "plt.xlabel(\"Deciles of Median Admission SAT Math Scores\")\n",
    "plt.ylabel('Number of Universities')\n",
    "\n",
    "y=satmath_counts['num_unis']\n",
    "for i,v in enumerate(y):\n",
    "    plt.text(i-.25,v+0.01,str(v))\n",
    "plt.show()"
   ]
  },
  {
   "cell_type": "code",
   "execution_count": 30,
   "metadata": {},
   "outputs": [
    {
     "name": "stderr",
     "output_type": "stream",
     "text": [
      "C:\\Users\\catdo\\Anaconda3\\lib\\site-packages\\ipykernel_launcher.py:5: SettingWithCopyWarning: \n",
      "A value is trying to be set on a copy of a slice from a DataFrame.\n",
      "Try using .loc[row_indexer,col_indexer] = value instead\n",
      "\n",
      "See the caveats in the documentation: http://pandas.pydata.org/pandas-docs/stable/user_guide/indexing.html#returning-a-view-versus-a-copy\n",
      "  \"\"\"\n"
     ]
    },
    {
     "data": {
      "image/png": "[encoded data removed]",
      "text/plain": [
       "<Figure size 432x288 with 1 Axes>"
      ]
     },
     "metadata": {
      "needs_background": "light"
     },
     "output_type": "display_data"
    }
   ],
   "source": [
    "#defining our target variable as institutions in the 90th percentile with a SAT Math score higher than 660\n",
    "def highmathscore(satmath):\n",
    "    if satmath['SATMTMID'] < 660 : return 0\n",
    "    else: return 1\n",
    "satmath['targetscore'] = satmath.apply(highmathscore,axis=1)\n",
    "satmath_grped=satmath.groupby('targetscore').agg({'UNITID': 'count'})\n",
    "satmath_grped.rename(columns={satmath_grped.columns[0]:\"num_unis\"},inplace= True)\n",
    "\n",
    "satmath_grped.plot(kind='bar')\n",
    "plt.title(\"Distribution of High and Low Median SAT Math Score Groups\")\n",
    "plt.xlabel(\"Groups of Median SAT Math Scores\")\n",
    "plt.ylabel('Number of Universities')\n",
    "\n",
    "y=satmath_grped['num_unis']\n",
    "for i,v in enumerate(y):\n",
    "    plt.text(i-.25,v+0.01,str(v))\n",
    "plt.show()"
   ]
  },
  {
   "cell_type": "markdown",
   "metadata": {},
   "source": [
    "This graph shows the distribution of institutions within our coded groups of lower SAT Math scores (0) and higher SAT Math scores (1). We chose our target to determine a high SAT Math score to be those in the 90th percentile which was an admission score of above 660. All scores below this are coded as 0."
   ]
  },
  {
   "cell_type": "code",
   "execution_count": 31,
   "metadata": {},
   "outputs": [
    {
     "data": {
      "text/html": [
       "<div>\n",
       "<style scoped>\n",
       "    .dataframe tbody tr th:only-of-type {\n",
       "        vertical-align: middle;\n",
       "    }\n",
       "\n",
       "    .dataframe tbody tr th {\n",
       "        vertical-align: top;\n",
       "    }\n",
       "\n",
       "    .dataframe thead th {\n",
       "        text-align: right;\n",
       "    }\n",
       "</style>\n",
       "<table border=\"1\" class=\"dataframe\">\n",
       "  <thead>\n",
       "    <tr style=\"text-align: right;\">\n",
       "      <th></th>\n",
       "      <th>num_unis</th>\n",
       "      <th>percentage</th>\n",
       "    </tr>\n",
       "    <tr>\n",
       "      <th>targetscore</th>\n",
       "      <th></th>\n",
       "      <th></th>\n",
       "    </tr>\n",
       "  </thead>\n",
       "  <tbody>\n",
       "    <tr>\n",
       "      <td>0</td>\n",
       "      <td>1081</td>\n",
       "      <td>0.90</td>\n",
       "    </tr>\n",
       "    <tr>\n",
       "      <td>1</td>\n",
       "      <td>126</td>\n",
       "      <td>0.10</td>\n",
       "    </tr>\n",
       "  </tbody>\n",
       "</table>\n",
       "</div>"
      ],
      "text/plain": [
       "             num_unis  percentage\n",
       "targetscore                      \n",
       "0                1081        0.90\n",
       "1                 126        0.10"
      ]
     },
     "execution_count": 31,
     "metadata": {},
     "output_type": "execute_result"
    }
   ],
   "source": [
    "#creating counts and percentages for those in our target and not\n",
    "targetscorepercent=pd.crosstab(index=satmath['targetscore'],columns=satmath.targetscore,normalize='columns',margins=True)\n",
    "t_percent=targetscorepercent.iloc[:,2]\n",
    "satmath_grped['percentage']= t_percent\n",
    "satmath_grped"
   ]
  },
  {
   "cell_type": "markdown",
   "metadata": {},
   "source": [
    "\n",
    "## SECTION 4: Exploratory Data Analysis\n",
    "\n",
    "In order to reject or accept our hypothesis, we have chosen two STEM degree features, percentage of degrees awarded in Math and Statistics (PCIP27) and Computer Science(PCIP11), and two non-stem degree features, percentage of degrees awarded in Business (PCIP52) and Psychology (PCIP42). We additionally wanted to look at the regions of the institutions and how that may play a roll in these percentages."
   ]
  },
  {
   "cell_type": "code",
   "execution_count": 34,
   "metadata": {},
   "outputs": [
    {
     "data": {
      "text/plain": [
       "count   1207.0000\n",
       "mean       0.0124\n",
       "std        0.0147\n",
       "min        0.0000\n",
       "0%         0.0000\n",
       "25%        0.0031\n",
       "50%        0.0085\n",
       "75%        0.0158\n",
       "80%        0.0184\n",
       "85%        0.0227\n",
       "90%        0.0276\n",
       "95%        0.0406\n",
       "96%        0.0443\n",
       "97%        0.0479\n",
       "98%        0.0577\n",
       "99%        0.0729\n",
       "100%       0.1307\n",
       "max        0.1307\n",
       "Name: PCIP27, dtype: float64"
      ]
     },
     "execution_count": 34,
     "metadata": {},
     "output_type": "execute_result"
    }
   ],
   "source": [
    "#viewing the distribution of percentage of math degrees awarded.\n",
    "pd.options.display.float_format = '{:.4f}'.format\n",
    "math_deciles=satmath['PCIP27'].describe(percentiles=[0,.25,.50,.75,.80,.85,.9,.95,.96,.97,.98,.99,1])\n",
    "math_deciles"
   ]
  },
  {
   "cell_type": "code",
   "execution_count": 35,
   "metadata": {},
   "outputs": [
    {
     "name": "stderr",
     "output_type": "stream",
     "text": [
      "C:\\Users\\catdo\\Anaconda3\\lib\\site-packages\\ipykernel_launcher.py:15: SettingWithCopyWarning: \n",
      "A value is trying to be set on a copy of a slice from a DataFrame.\n",
      "Try using .loc[row_indexer,col_indexer] = value instead\n",
      "\n",
      "See the caveats in the documentation: http://pandas.pydata.org/pandas-docs/stable/user_guide/indexing.html#returning-a-view-versus-a-copy\n",
      "  from ipykernel import kernelapp as app\n"
     ]
    },
    {
     "data": {
      "text/plain": [
       "<matplotlib.axes._subplots.AxesSubplot at 0x1bfb8582208>"
      ]
     },
     "execution_count": 35,
     "metadata": {},
     "output_type": "execute_result"
    },
    {
     "data": {
      "image/png": "[encoded data removed]",
      "text/plain": [
       "<Figure size 432x288 with 1 Axes>"
      ]
     },
     "metadata": {
      "needs_background": "light"
     },
     "output_type": "display_data"
    }
   ],
   "source": [
    "def mathdeg (satmath):\n",
    "    if satmath['PCIP14']< 0.0085: return 50\n",
    "    elif (satmath['PCIP14']>= 0.0085 and satmath['PCIP14']<0.0158): return 75\n",
    "    elif (satmath['PCIP14']>= 0.0158 and satmath['PCIP14']<0.0184): return 80\n",
    "    elif (satmath['PCIP14']>= 0.0184 and satmath['PCIP14']<0.0227): return 85\n",
    "    elif (satmath['PCIP14']>= 0.0227 and satmath['PCIP14']<0.0276): return 90\n",
    "    elif (satmath['PCIP14']>= 0.0276 and satmath['PCIP14']<0.0406): return 95\n",
    "    elif (satmath['PCIP14']>= 0.0406 and satmath['PCIP14']<0.0443): return 96\n",
    "    elif (satmath['PCIP14']>= 0.0443 and satmath['PCIP14']<0.0479): return 97\n",
    "    elif (satmath['PCIP14']>= 0.0479 and satmath['PCIP14']<0.0577): return 98\n",
    "    elif (satmath['PCIP14']>= 0.0577 and satmath['PCIP14']<0.0729): return 99\n",
    "    elif (satmath['PCIP14']>= 0.0729 and satmath['PCIP14']<0.1307): return 100\n",
    "    else : return 999\n",
    "    \n",
    "satmath['Math_Deg_Percentiles']=satmath.apply(mathdeg,axis=1)\n",
    "mathdeg_counts=satmath.groupby('Math_Deg_Percentiles').agg({'UNITID': 'count'})\n",
    "mathdeg_counts.rename(columns={mathdeg_counts.columns[0]:\"grp_counts\"},inplace= True)\n",
    "\n",
    "distribution_of_math = mathdeg_counts.iloc[:-1]\n",
    "distribution_of_math.plot(kind='bar')"
   ]
  },
  {
   "cell_type": "markdown",
   "metadata": {},
   "source": [
    "The distribution of percentages of Math and Statistics degrees awarded is the most irregular out of all the features looked at with 121 institutions in the top 1% of percentage of degrees awarded, the most in the top 1% of any degree looked at. All other distribution of degrees see a consistent and similar trend of decreasing numbers of institutions in each percentile as they move toward 100%."
   ]
  },
  {
   "cell_type": "code",
   "execution_count": 36,
   "metadata": {},
   "outputs": [
    {
     "data": {
      "text/plain": [
       "count   1207.0000\n",
       "mean       0.0302\n",
       "std        0.0444\n",
       "min        0.0000\n",
       "0%         0.0000\n",
       "25%        0.0021\n",
       "50%        0.0210\n",
       "75%        0.0383\n",
       "80%        0.0435\n",
       "85%        0.0514\n",
       "90%        0.0652\n",
       "95%        0.0925\n",
       "96%        0.1061\n",
       "97%        0.1203\n",
       "98%        0.1468\n",
       "99%        0.2083\n",
       "100%       0.5320\n",
       "max        0.5320\n",
       "Name: PCIP11, dtype: float64"
      ]
     },
     "execution_count": 36,
     "metadata": {},
     "output_type": "execute_result"
    }
   ],
   "source": [
    "#viewing the distribution of percentage of CS degrees awarded.\n",
    "cs_deciles=satmath['PCIP11'].describe(percentiles=[0,.25,.50,.75,.80,.85,.9,.95,.96,.97,.98,.99,1])\n",
    "cs_deciles"
   ]
  },
  {
   "cell_type": "code",
   "execution_count": 37,
   "metadata": {
    "scrolled": true
   },
   "outputs": [
    {
     "name": "stderr",
     "output_type": "stream",
     "text": [
      "C:\\Users\\catdo\\Anaconda3\\lib\\site-packages\\ipykernel_launcher.py:16: SettingWithCopyWarning: \n",
      "A value is trying to be set on a copy of a slice from a DataFrame.\n",
      "Try using .loc[row_indexer,col_indexer] = value instead\n",
      "\n",
      "See the caveats in the documentation: http://pandas.pydata.org/pandas-docs/stable/user_guide/indexing.html#returning-a-view-versus-a-copy\n",
      "  app.launch_new_instance()\n"
     ]
    },
    {
     "data": {
      "text/plain": [
       "<matplotlib.axes._subplots.AxesSubplot at 0x1bfb84d8808>"
      ]
     },
     "execution_count": 37,
     "metadata": {},
     "output_type": "execute_result"
    },
    {
     "data": {
      "image/png": "[encoded data removed]",
      "text/plain": [
       "<Figure size 432x288 with 1 Axes>"
      ]
     },
     "metadata": {
      "needs_background": "light"
     },
     "output_type": "display_data"
    }
   ],
   "source": [
    "def csdeg (satmath):\n",
    "    if satmath['PCIP11']< 0.0021: return 25\n",
    "    elif (satmath['PCIP11']>= 0.0021 and satmath['PCIP11']<0.0210): return 50\n",
    "    elif (satmath['PCIP11']>= 0.0210 and satmath['PCIP11']<0.0383): return 75\n",
    "    elif (satmath['PCIP11']>= 0.0383 and satmath['PCIP11']<0.0435): return 80\n",
    "    elif (satmath['PCIP11']>= 0.0435 and satmath['PCIP11']<0.0514): return 85\n",
    "    elif (satmath['PCIP11']>= 0.0514 and satmath['PCIP11']<0.0652): return 90\n",
    "    elif (satmath['PCIP11']>= 0.0652 and satmath['PCIP11']<0.0925): return 95\n",
    "    elif (satmath['PCIP11']>= 0.0925 and satmath['PCIP11']<0.1061): return 96\n",
    "    elif (satmath['PCIP11']>= 0.1061 and satmath['PCIP11']<0.1203): return 97\n",
    "    elif (satmath['PCIP11']>= 0.1203 and satmath['PCIP11']<0.1468): return 98\n",
    "    elif (satmath['PCIP11']>= 0.1468 and satmath['PCIP11']<0.2083): return 99\n",
    "    elif (satmath['PCIP11']>= 0.2083 and satmath['PCIP11']<0.5320): return 100\n",
    "    else : return 999\n",
    "    \n",
    "satmath['CS_Deg_Percentiles']=satmath.apply(csdeg,axis=1)\n",
    "csdeg_counts=satmath.groupby('CS_Deg_Percentiles').agg({'UNITID': 'count'})\n",
    "csdeg_counts.rename(columns={csdeg_counts.columns[0]:\"grp_counts\"},inplace= True)\n",
    "\n",
    "distribution_of_cs = csdeg_counts.iloc[:-1]\n",
    "distribution_of_cs.plot(kind='bar')"
   ]
  },
  {
   "cell_type": "code",
   "execution_count": 38,
   "metadata": {},
   "outputs": [
    {
     "data": {
      "text/plain": [
       "count   1207.0000\n",
       "mean       0.1814\n",
       "std        0.1167\n",
       "min        0.0000\n",
       "0%         0.0000\n",
       "25%        0.1205\n",
       "50%        0.1759\n",
       "75%        0.2340\n",
       "80%        0.2513\n",
       "85%        0.2732\n",
       "90%        0.2982\n",
       "95%        0.3701\n",
       "96%        0.3901\n",
       "97%        0.4145\n",
       "98%        0.4459\n",
       "99%        0.5368\n",
       "100%       1.0000\n",
       "max        1.0000\n",
       "Name: PCIP52, dtype: float64"
      ]
     },
     "execution_count": 38,
     "metadata": {},
     "output_type": "execute_result"
    }
   ],
   "source": [
    "#viewing the distribution of percentage of Business degrees awarded.\n",
    "bus_deciles=satmath['PCIP52'].describe(percentiles=[0,.25,.50,.75,.80,.85,.9,.95,.96,.97,.98,.99,1])\n",
    "bus_deciles"
   ]
  },
  {
   "cell_type": "code",
   "execution_count": 40,
   "metadata": {},
   "outputs": [
    {
     "name": "stderr",
     "output_type": "stream",
     "text": [
      "C:\\Users\\catdo\\Anaconda3\\lib\\site-packages\\ipykernel_launcher.py:16: SettingWithCopyWarning: \n",
      "A value is trying to be set on a copy of a slice from a DataFrame.\n",
      "Try using .loc[row_indexer,col_indexer] = value instead\n",
      "\n",
      "See the caveats in the documentation: http://pandas.pydata.org/pandas-docs/stable/user_guide/indexing.html#returning-a-view-versus-a-copy\n",
      "  app.launch_new_instance()\n"
     ]
    },
    {
     "data": {
      "text/plain": [
       "<matplotlib.axes._subplots.AxesSubplot at 0x1bfd21d2588>"
      ]
     },
     "execution_count": 40,
     "metadata": {},
     "output_type": "execute_result"
    },
    {
     "data": {
      "image/png": "[encoded data removed]",
      "text/plain": [
       "<Figure size 432x288 with 1 Axes>"
      ]
     },
     "metadata": {
      "needs_background": "light"
     },
     "output_type": "display_data"
    }
   ],
   "source": [
    "def busdeg (satmath):\n",
    "    if satmath['PCIP52']< 0.1205: return 25\n",
    "    elif (satmath['PCIP52']>= 0.1205 and satmath['PCIP52']<0.1759): return 50\n",
    "    elif (satmath['PCIP52']>= 0.1759 and satmath['PCIP52']<0.2340): return 75\n",
    "    elif (satmath['PCIP52']>= 0.2340 and satmath['PCIP52']<0.2513): return 80\n",
    "    elif (satmath['PCIP52']>= 0.2513 and satmath['PCIP52']<0.2732): return 85\n",
    "    elif (satmath['PCIP52']>= 0.2732 and satmath['PCIP52']<0.2982): return 90\n",
    "    elif (satmath['PCIP52']>= 0.2982 and satmath['PCIP52']<0.3701): return 95\n",
    "    elif (satmath['PCIP52']>= 0.3701 and satmath['PCIP52']<0.3901): return 96\n",
    "    elif (satmath['PCIP52']>= 0.3901 and satmath['PCIP52']<0.4145): return 97\n",
    "    elif (satmath['PCIP52']>= 0.4145 and satmath['PCIP52']<0.4459): return 98\n",
    "    elif (satmath['PCIP52']>= 0.4459 and satmath['PCIP52']<0.5368): return 99\n",
    "    elif (satmath['PCIP52']>= 0.5368 and satmath['PCIP52']<1.0000): return 100\n",
    "    else : return 999\n",
    "    \n",
    "satmath['Bus_Deg_Percentile']=satmath.apply(busdeg,axis=1)\n",
    "busdeg_counts=satmath.groupby('Bus_Deg_Percentile').agg({'UNITID': 'count'})\n",
    "busdeg_counts.rename(columns={busdeg_counts.columns[0]:\"grp_counts\"}, inplace= True)\n",
    "\n",
    "distribution_of_bus = busdeg_counts.iloc[:-1]\n",
    "distribution_of_bus.plot(kind='bar')"
   ]
  },
  {
   "cell_type": "code",
   "execution_count": 41,
   "metadata": {},
   "outputs": [
    {
     "data": {
      "text/plain": [
       "count   1207.0000\n",
       "mean       0.0620\n",
       "std        0.0423\n",
       "min        0.0000\n",
       "0%         0.0000\n",
       "25%        0.0347\n",
       "50%        0.0570\n",
       "75%        0.0819\n",
       "80%        0.0887\n",
       "85%        0.0985\n",
       "90%        0.1144\n",
       "95%        0.1415\n",
       "96%        0.1515\n",
       "97%        0.1582\n",
       "98%        0.1726\n",
       "99%        0.2029\n",
       "100%       0.2764\n",
       "max        0.2764\n",
       "Name: PCIP42, dtype: float64"
      ]
     },
     "execution_count": 41,
     "metadata": {},
     "output_type": "execute_result"
    }
   ],
   "source": [
    "#viewing the distribution of percentage of Psychology degrees awarded.\n",
    "psy_deciles=satmath['PCIP42'].describe(percentiles=[0,.25,.50,.75,.80,.85,.9,.95,.96,.97,.98,.99,1])\n",
    "psy_deciles"
   ]
  },
  {
   "cell_type": "code",
   "execution_count": 42,
   "metadata": {},
   "outputs": [
    {
     "name": "stderr",
     "output_type": "stream",
     "text": [
      "C:\\Users\\catdo\\Anaconda3\\lib\\site-packages\\ipykernel_launcher.py:16: SettingWithCopyWarning: \n",
      "A value is trying to be set on a copy of a slice from a DataFrame.\n",
      "Try using .loc[row_indexer,col_indexer] = value instead\n",
      "\n",
      "See the caveats in the documentation: http://pandas.pydata.org/pandas-docs/stable/user_guide/indexing.html#returning-a-view-versus-a-copy\n",
      "  app.launch_new_instance()\n"
     ]
    },
    {
     "data": {
      "text/plain": [
       "<matplotlib.axes._subplots.AxesSubplot at 0x1bfc785ee88>"
      ]
     },
     "execution_count": 42,
     "metadata": {},
     "output_type": "execute_result"
    },
    {
     "data": {
      "image/png": "[encoded data removed]",
      "text/plain": [
       "<Figure size 432x288 with 1 Axes>"
      ]
     },
     "metadata": {
      "needs_background": "light"
     },
     "output_type": "display_data"
    }
   ],
   "source": [
    "def psydeg (satmath):\n",
    "    if satmath['PCIP42']< 0.0347: return 25\n",
    "    elif (satmath['PCIP42']>= 0.0347 and satmath['PCIP42']<0.0570): return 50\n",
    "    elif (satmath['PCIP42']>= 0.0570 and satmath['PCIP42']<0.0819): return 75\n",
    "    elif (satmath['PCIP42']>= 0.0819 and satmath['PCIP42']<0.0887): return 80\n",
    "    elif (satmath['PCIP42']>= 0.0887 and satmath['PCIP42']<0.0985): return 85\n",
    "    elif (satmath['PCIP42']>= 0.0985 and satmath['PCIP42']<0.1144): return 90\n",
    "    elif (satmath['PCIP42']>= 0.1144 and satmath['PCIP42']<0.1415): return 95\n",
    "    elif (satmath['PCIP42']>= 0.1415 and satmath['PCIP42']<0.1515): return 96\n",
    "    elif (satmath['PCIP42']>= 0.1515 and satmath['PCIP42']<0.1582): return 97\n",
    "    elif (satmath['PCIP42']>= 0.1582 and satmath['PCIP42']<0.1726): return 98\n",
    "    elif (satmath['PCIP42']>= 0.1726 and satmath['PCIP42']<0.2029): return 99\n",
    "    elif (satmath['PCIP42']>= 0.2029 and satmath['PCIP42']<0.2764): return 100\n",
    "    else : return 999\n",
    "    \n",
    "satmath['Psy_Deg_Percentiles']=satmath.apply(psydeg,axis=1)\n",
    "psydeg_counts=satmath.groupby('Psy_Deg_Percentiles').agg({'UNITID': 'count'})\n",
    "psydeg_counts.rename(columns={psydeg_counts.columns[0]:\"grp_counts\"},inplace= True)\n",
    "\n",
    "distribution_of_psy = psydeg_counts.iloc[:-1]\n",
    "distribution_of_psy.plot(kind='bar')"
   ]
  },
  {
   "cell_type": "code",
   "execution_count": 43,
   "metadata": {},
   "outputs": [
    {
     "name": "stderr",
     "output_type": "stream",
     "text": [
      "C:\\Users\\catdo\\Anaconda3\\lib\\site-packages\\pandas\\core\\frame.py:4223: SettingWithCopyWarning: \n",
      "A value is trying to be set on a copy of a slice from a DataFrame\n",
      "\n",
      "See the caveats in the documentation: http://pandas.pydata.org/pandas-docs/stable/user_guide/indexing.html#returning-a-view-versus-a-copy\n",
      "  return super().rename(**kwargs)\n"
     ]
    },
    {
     "data": {
      "text/html": [
       "<div>\n",
       "<style scoped>\n",
       "    .dataframe tbody tr th:only-of-type {\n",
       "        vertical-align: middle;\n",
       "    }\n",
       "\n",
       "    .dataframe tbody tr th {\n",
       "        vertical-align: top;\n",
       "    }\n",
       "\n",
       "    .dataframe thead th {\n",
       "        text-align: right;\n",
       "    }\n",
       "</style>\n",
       "<table border=\"1\" class=\"dataframe\">\n",
       "  <thead>\n",
       "    <tr style=\"text-align: right;\">\n",
       "      <th></th>\n",
       "      <th></th>\n",
       "      <th>Median SAT Math Score</th>\n",
       "      <th>% of Math Degrees Awarded</th>\n",
       "      <th>% of CS Degrees Awarded</th>\n",
       "      <th>% of Psychology Degrees Awarded</th>\n",
       "      <th>% of Business Degrees Awarded</th>\n",
       "      <th>REGION</th>\n",
       "    </tr>\n",
       "    <tr>\n",
       "      <th>targetscore</th>\n",
       "      <th></th>\n",
       "      <th></th>\n",
       "      <th></th>\n",
       "      <th></th>\n",
       "      <th></th>\n",
       "      <th></th>\n",
       "      <th></th>\n",
       "    </tr>\n",
       "  </thead>\n",
       "  <tbody>\n",
       "    <tr>\n",
       "      <td rowspan=\"6\" valign=\"top\">0</td>\n",
       "      <td>Median SAT Math Score</td>\n",
       "      <td>1.0000</td>\n",
       "      <td>0.2406</td>\n",
       "      <td>0.1446</td>\n",
       "      <td>-0.1211</td>\n",
       "      <td>-0.1180</td>\n",
       "      <td>-0.0453</td>\n",
       "    </tr>\n",
       "    <tr>\n",
       "      <td>% of Math Degrees Awarded</td>\n",
       "      <td>0.2406</td>\n",
       "      <td>1.0000</td>\n",
       "      <td>0.0023</td>\n",
       "      <td>0.2338</td>\n",
       "      <td>-0.1058</td>\n",
       "      <td>-0.0107</td>\n",
       "    </tr>\n",
       "    <tr>\n",
       "      <td>% of CS Degrees Awarded</td>\n",
       "      <td>0.1446</td>\n",
       "      <td>0.0023</td>\n",
       "      <td>1.0000</td>\n",
       "      <td>-0.0387</td>\n",
       "      <td>-0.0124</td>\n",
       "      <td>-0.0531</td>\n",
       "    </tr>\n",
       "    <tr>\n",
       "      <td>% of Psychology Degrees Awarded</td>\n",
       "      <td>-0.1211</td>\n",
       "      <td>0.2338</td>\n",
       "      <td>-0.0387</td>\n",
       "      <td>1.0000</td>\n",
       "      <td>0.0977</td>\n",
       "      <td>0.0663</td>\n",
       "    </tr>\n",
       "    <tr>\n",
       "      <td>% of Business Degrees Awarded</td>\n",
       "      <td>-0.1180</td>\n",
       "      <td>-0.1058</td>\n",
       "      <td>-0.0124</td>\n",
       "      <td>0.0977</td>\n",
       "      <td>1.0000</td>\n",
       "      <td>0.0392</td>\n",
       "    </tr>\n",
       "    <tr>\n",
       "      <td>REGION</td>\n",
       "      <td>-0.0453</td>\n",
       "      <td>-0.0107</td>\n",
       "      <td>-0.0531</td>\n",
       "      <td>0.0663</td>\n",
       "      <td>0.0392</td>\n",
       "      <td>1.0000</td>\n",
       "    </tr>\n",
       "    <tr>\n",
       "      <td rowspan=\"6\" valign=\"top\">1</td>\n",
       "      <td>Median SAT Math Score</td>\n",
       "      <td>1.0000</td>\n",
       "      <td>0.4219</td>\n",
       "      <td>0.3681</td>\n",
       "      <td>-0.2078</td>\n",
       "      <td>-0.2640</td>\n",
       "      <td>-0.1363</td>\n",
       "    </tr>\n",
       "    <tr>\n",
       "      <td>% of Math Degrees Awarded</td>\n",
       "      <td>0.4219</td>\n",
       "      <td>1.0000</td>\n",
       "      <td>0.2812</td>\n",
       "      <td>0.1810</td>\n",
       "      <td>-0.3152</td>\n",
       "      <td>0.0271</td>\n",
       "    </tr>\n",
       "    <tr>\n",
       "      <td>% of CS Degrees Awarded</td>\n",
       "      <td>0.3681</td>\n",
       "      <td>0.2812</td>\n",
       "      <td>1.0000</td>\n",
       "      <td>-0.2854</td>\n",
       "      <td>-0.1799</td>\n",
       "      <td>0.0245</td>\n",
       "    </tr>\n",
       "    <tr>\n",
       "      <td>% of Psychology Degrees Awarded</td>\n",
       "      <td>-0.2078</td>\n",
       "      <td>0.1810</td>\n",
       "      <td>-0.2854</td>\n",
       "      <td>1.0000</td>\n",
       "      <td>-0.1623</td>\n",
       "      <td>0.1661</td>\n",
       "    </tr>\n",
       "    <tr>\n",
       "      <td>% of Business Degrees Awarded</td>\n",
       "      <td>-0.2640</td>\n",
       "      <td>-0.3152</td>\n",
       "      <td>-0.1799</td>\n",
       "      <td>-0.1623</td>\n",
       "      <td>1.0000</td>\n",
       "      <td>-0.0839</td>\n",
       "    </tr>\n",
       "    <tr>\n",
       "      <td>REGION</td>\n",
       "      <td>-0.1363</td>\n",
       "      <td>0.0271</td>\n",
       "      <td>0.0245</td>\n",
       "      <td>0.1661</td>\n",
       "      <td>-0.0839</td>\n",
       "      <td>1.0000</td>\n",
       "    </tr>\n",
       "  </tbody>\n",
       "</table>\n",
       "</div>"
      ],
      "text/plain": [
       "                                             Median SAT Math Score  \\\n",
       "targetscore                                                          \n",
       "0           Median SAT Math Score                           1.0000   \n",
       "            % of Math Degrees Awarded                       0.2406   \n",
       "            % of CS Degrees Awarded                         0.1446   \n",
       "            % of Psychology Degrees Awarded                -0.1211   \n",
       "            % of Business Degrees Awarded                  -0.1180   \n",
       "            REGION                                         -0.0453   \n",
       "1           Median SAT Math Score                           1.0000   \n",
       "            % of Math Degrees Awarded                       0.4219   \n",
       "            % of CS Degrees Awarded                         0.3681   \n",
       "            % of Psychology Degrees Awarded                -0.2078   \n",
       "            % of Business Degrees Awarded                  -0.2640   \n",
       "            REGION                                         -0.1363   \n",
       "\n",
       "                                             % of Math Degrees Awarded  \\\n",
       "targetscore                                                              \n",
       "0           Median SAT Math Score                               0.2406   \n",
       "            % of Math Degrees Awarded                           1.0000   \n",
       "            % of CS Degrees Awarded                             0.0023   \n",
       "            % of Psychology Degrees Awarded                     0.2338   \n",
       "            % of Business Degrees Awarded                      -0.1058   \n",
       "            REGION                                             -0.0107   \n",
       "1           Median SAT Math Score                               0.4219   \n",
       "            % of Math Degrees Awarded                           1.0000   \n",
       "            % of CS Degrees Awarded                             0.2812   \n",
       "            % of Psychology Degrees Awarded                     0.1810   \n",
       "            % of Business Degrees Awarded                      -0.3152   \n",
       "            REGION                                              0.0271   \n",
       "\n",
       "                                             % of CS Degrees Awarded  \\\n",
       "targetscore                                                            \n",
       "0           Median SAT Math Score                             0.1446   \n",
       "            % of Math Degrees Awarded                         0.0023   \n",
       "            % of CS Degrees Awarded                           1.0000   \n",
       "            % of Psychology Degrees Awarded                  -0.0387   \n",
       "            % of Business Degrees Awarded                    -0.0124   \n",
       "            REGION                                           -0.0531   \n",
       "1           Median SAT Math Score                             0.3681   \n",
       "            % of Math Degrees Awarded                         0.2812   \n",
       "            % of CS Degrees Awarded                           1.0000   \n",
       "            % of Psychology Degrees Awarded                  -0.2854   \n",
       "            % of Business Degrees Awarded                    -0.1799   \n",
       "            REGION                                            0.0245   \n",
       "\n",
       "                                             % of Psychology Degrees Awarded  \\\n",
       "targetscore                                                                    \n",
       "0           Median SAT Math Score                                    -0.1211   \n",
       "            % of Math Degrees Awarded                                 0.2338   \n",
       "            % of CS Degrees Awarded                                  -0.0387   \n",
       "            % of Psychology Degrees Awarded                           1.0000   \n",
       "            % of Business Degrees Awarded                             0.0977   \n",
       "            REGION                                                    0.0663   \n",
       "1           Median SAT Math Score                                    -0.2078   \n",
       "            % of Math Degrees Awarded                                 0.1810   \n",
       "            % of CS Degrees Awarded                                  -0.2854   \n",
       "            % of Psychology Degrees Awarded                           1.0000   \n",
       "            % of Business Degrees Awarded                            -0.1623   \n",
       "            REGION                                                    0.1661   \n",
       "\n",
       "                                             % of Business Degrees Awarded  \\\n",
       "targetscore                                                                  \n",
       "0           Median SAT Math Score                                  -0.1180   \n",
       "            % of Math Degrees Awarded                              -0.1058   \n",
       "            % of CS Degrees Awarded                                -0.0124   \n",
       "            % of Psychology Degrees Awarded                         0.0977   \n",
       "            % of Business Degrees Awarded                           1.0000   \n",
       "            REGION                                                  0.0392   \n",
       "1           Median SAT Math Score                                  -0.2640   \n",
       "            % of Math Degrees Awarded                              -0.3152   \n",
       "            % of CS Degrees Awarded                                -0.1799   \n",
       "            % of Psychology Degrees Awarded                        -0.1623   \n",
       "            % of Business Degrees Awarded                           1.0000   \n",
       "            REGION                                                 -0.0839   \n",
       "\n",
       "                                             REGION  \n",
       "targetscore                                          \n",
       "0           Median SAT Math Score           -0.0453  \n",
       "            % of Math Degrees Awarded       -0.0107  \n",
       "            % of CS Degrees Awarded         -0.0531  \n",
       "            % of Psychology Degrees Awarded  0.0663  \n",
       "            % of Business Degrees Awarded    0.0392  \n",
       "            REGION                           1.0000  \n",
       "1           Median SAT Math Score           -0.1363  \n",
       "            % of Math Degrees Awarded        0.0271  \n",
       "            % of CS Degrees Awarded          0.0245  \n",
       "            % of Psychology Degrees Awarded  0.1661  \n",
       "            % of Business Degrees Awarded   -0.0839  \n",
       "            REGION                           1.0000  "
      ]
     },
     "execution_count": 43,
     "metadata": {},
     "output_type": "execute_result"
    }
   ],
   "source": [
    "#generating Pearson correlation matrix grouped by our targetscore \n",
    "target_df = satmath[['SATMTMID','PCIP27','PCIP11','PCIP42','PCIP52','REGION','targetscore']]\n",
    "target_df.rename(columns={\"SATMTMID\": \"Median SAT Math Score\", 'PCIP27': \"% of Math Degrees Awarded\", \n",
    "'PCIP11': \"% of CS Degrees Awarded\", 'PCIP42': \"% of Psychology Degrees Awarded\", 'PCIP52': \"% of Business Degrees Awarded\"}, inplace = True)\n",
    "samp_corr=target_df.groupby('targetscore').corr(method='pearson')\n",
    "samp_corr"
   ]
  },
  {
   "cell_type": "code",
   "execution_count": 44,
   "metadata": {},
   "outputs": [
    {
     "data": {
      "text/plain": [
       "<matplotlib.axes._subplots.AxesSubplot at 0x1bfc5907f48>"
      ]
     },
     "execution_count": 44,
     "metadata": {},
     "output_type": "execute_result"
    },
    {
     "data": {
      "image/png": "[encoded data removed]",
      "text/plain": [
       "<Figure size 576x576 with 2 Axes>"
      ]
     },
     "metadata": {
      "needs_background": "light"
     },
     "output_type": "display_data"
    }
   ],
   "source": [
    "corr1=pd.DataFrame(target_df.loc[target_df.targetscore == 0])\n",
    "fig, ax=plt.subplots(sharex=True, figsize=(8,8))\n",
    "title= \"SAT Math Score Below 660\"\n",
    "ax.set_title(title)\n",
    "sns.heatmap(corr1.corr(method='pearson'), vmin=-1, vmax=1, cmap='Blues', linewidths=1)"
   ]
  },
  {
   "cell_type": "code",
   "execution_count": 45,
   "metadata": {},
   "outputs": [
    {
     "data": {
      "text/plain": [
       "<matplotlib.axes._subplots.AxesSubplot at 0x1bfc58e9108>"
      ]
     },
     "execution_count": 45,
     "metadata": {},
     "output_type": "execute_result"
    },
    {
     "data": {
      "image/png": "[encoded data removed]",
      "text/plain": [
       "<Figure size 576x576 with 2 Axes>"
      ]
     },
     "metadata": {
      "needs_background": "light"
     },
     "output_type": "display_data"
    }
   ],
   "source": [
    "corr2=pd.DataFrame(target_df.loc[target_df.targetscore == 1])\n",
    "fig, ax=plt.subplots(sharex=True, figsize=(8,8))\n",
    "title= \"SAT Math Score Above 660\"\n",
    "ax.set_title(title)\n",
    "sns.heatmap(corr1.corr(method='pearson'), vmin=-1, vmax=1, cmap='Blues', linewidths=1)"
   ]
  },
  {
   "cell_type": "markdown",
   "metadata": {},
   "source": [
    "Viewing only the heatmaps generated for the high scoring institutions (targetscore = 1) and low scoring institutions (targetscore = 0), there is does not seem to be a large difference between the two. However, viewing the matrix of Pearson correlation coefficients, we see that the correlations between Median SAT Math Score and percentage of STEM degrees awarded, here Math and Computer Science, are stronger for institutions in our target group than those not in the group. The former having an r of **.4219** for Math degrees and **.3681** for CS degrees and the latter having an r of **.2406** for Math degrees and **.1446** for CS degrees. Additionally those in our target group with higher median SAT Math scores have a stronger negative correlation with percentage of Psychology and Business Degrees awarded (**-.2078** and **-.264** respectively) compared with those in the lower Median SAT Math score group( **-.1211** and **-.1180** respectively) however it is ambiguous whether or not the correlation of SAT Math scores and those degrees are truly significant. Within the lower SAT Math scoring group, the strongest correlation between degree types is the percentage of Psychology and Math degrees with an r of **.2338** while in the higher SAT Math scoring group that same correlation weaker at  **.1810** though both are ambiguous. Within the target group the strongest correlation between degree types is Math and Computer Science with an r of **-.3152** showing a significant negative correlation between Math degrees and Business degrees awarded.\n",
    "\n",
    "Looking at the relationship of each feature and the region reveals insignificant correlation coefficient. This is expected since the region feature is categorical rather than quantitative, thus the Pearson correlation method would not produce meaningful coefficients for this feature. \n",
    "\n",
    "These correlations support our null hypothesis that institutions with higher SAT Math admission scores will have a higher percentage of degrees awarded in STEM degrees. "
   ]
  }
 ],
 "metadata": {
  "kernelspec": {
   "display_name": "Python 3",
   "language": "python",
   "name": "python3"
  },
  "language_info": {
   "codemirror_mode": {
    "name": "ipython",
    "version": 3
   },
   "file_extension": ".py",
   "mimetype": "text/x-python",
   "name": "python",
   "nbconvert_exporter": "python",
   "pygments_lexer": "ipython3",
   "version": "3.7.4"
  }
 },
 "nbformat": 4,
 "nbformat_minor": 2
}
